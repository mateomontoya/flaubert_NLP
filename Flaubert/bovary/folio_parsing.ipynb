{
 "cells": [
  {
   "cell_type": "code",
   "execution_count": 16,
   "metadata": {},
   "outputs": [],
   "source": [
    "from bs4 import BeautifulSoup\n",
    "from bs4.element import Comment\n",
    "import urllib.request\n",
    "import codecs\n",
    "import glob\n",
    "import re\n",
    "import pandas as pd\n",
    "import requests\n",
    "import numpy as np\n",
    "import nltk\n",
    "import spacy\n",
    "import html5lib\n",
    "import pprint"
   ]
  },
  {
   "cell_type": "markdown",
   "metadata": {},
   "source": [
    "Create class with properties for each metadata of the folio. This is Ishan's work."
   ]
  },
  {
   "cell_type": "code",
   "execution_count": null,
   "metadata": {},
   "outputs": [],
   "source": []
  },
  {
   "cell_type": "code",
   "execution_count": 17,
   "metadata": {},
   "outputs": [],
   "source": [
    "class Folio:\n",
    "    \n",
    "    def __init__(self, raw):\n",
    "        self.raw = raw\n",
    "        self.soup = BeautifulSoup(raw, 'html5lib')\n",
    "        #self.soup = BeautifulSoup(raw, 'html.parser')\n",
    "        self.text = self.soup.text\n",
    "        self.meta = self.soup.find('hors-corpus').text.strip()\n",
    "        \n",
    "        try:\n",
    "            self.chapter = re.search(r'chap\\.\\s?([0-9])+', self.meta).groups()[0].strip()\n",
    "        except:\n",
    "            self.chapter = 'NA'\n",
    "        \n",
    "        try:\n",
    "            self.name = re.search(r'\\:(.+?)-', self.meta).groups()[0].strip()\n",
    "        except:\n",
    "            self.name = 'NA'\n",
    "            \n",
    "        try:\n",
    "            self.vol = re.search(r'vol\\.\\s?([0-9]+)', self.meta).groups()[0].strip()\n",
    "        except:\n",
    "            self.vol = 'NA'\n",
    "            \n",
    "        try:\n",
    "            self.segment = self.meta.split(',')[0]\n",
    "        except:\n",
    "            self.segment = 'NA'\n",
    "            \n",
    "        try:\n",
    "            self.version = re.search(r'\\-(.+?),', self.meta).groups()[0].strip()\n",
    "        except:\n",
    "            self.version = 'NA'\n",
    "            \n",
    "        try:\n",
    "            self.folio = re.search(r'folio\\s?([0-9]+[a-z]?)', self.meta).groups()[0].strip()\n",
    "        except:\n",
    "            self.folio = 'NA'\n",
    "            \n",
    "    def get_marginalia(self):\n",
    "        pass"
   ]
  },
  {
   "cell_type": "code",
   "execution_count": 18,
   "metadata": {},
   "outputs": [
    {
     "name": "stdout",
     "output_type": "stream",
     "text": [
      "folios/1.html\n",
      "folios/10.html\n",
      "folios/100.html\n",
      "folios/1000.html\n",
      "folios/1001.html\n",
      "folios/1002.html\n",
      "folios/1003.html\n",
      "folios/1004.html\n",
      "folios/1005.html\n",
      "folios/1006.html\n",
      "folios/1007.html\n",
      "folios/1008.html\n",
      "folios/1009.html\n",
      "folios/101.html\n",
      "folios/1010.html\n",
      "folios/1011.html\n",
      "folios/1012.html\n",
      "folios/1013.html\n",
      "folios/1014.html\n",
      "folios/1015.html\n"
     ]
    }
   ],
   "source": [
    "folios = []\n",
    "\n",
    "for fpath in glob.glob('folios/*.html')[:20]:\n",
    "    print(fpath)\n",
    "    with open(fpath, 'r') as f:\n",
    "        raw = f.read()\n",
    "    folios.append(Folio(raw))"
   ]
  },
  {
   "cell_type": "code",
   "execution_count": 19,
   "metadata": {},
   "outputs": [
    {
     "data": {
      "text/plain": [
       "\"\\n\\t\\n \\t\\n\\n\\n\\n\\n  I, chap. 9 : Départ de Tostes - brouillons, vol. 2, folio 2v\\n      \\n       \\n \\n  \\n      \\xa0\\n  \\n      \\n   \\n  \\n       \\xa0 \\n  \\n       143 \\n   \\n  \\n       \\xa0 \\n  \\n       Quand le froid de la nuit commençait à\\xa0 la saisir\\n      \\xa0\\xa0\\xa0\\xa0\\xa0\\xa0\\xa0\\xa0\\xa0\\xa0\\xa0\\xa0\\xa0\\xa0\\xa0\\xa0\\xa0\\xa0\\xa0\\xa0\\xa0\\xa0\\xa0\\xa0\\xa0\\xa0\\xa0 \\xa0\\xa0\\xa0\\xa0\\xa0\\xa0\\xa0\\xa0\\xa0\\xa0alors\\n      \\xa0 elle \\xa0\\xa0se \\xa0\\xa0déshabillait \\xa0\\xa0alors, \\xa0\\xa0et ayant de nouveau rangé\\n      \\xa0\\xa0\\xa0\\xa0\\xa0\\xa0\\xa0\\xa0\\xa0\\xa0\\xa0\\xa0\\xa0\\xa0\\xa0\\xa0\\xa0\\xa0\\xa0\\xa0\\xa0\\xa0\\xa0\\xa0\\xa0\\xa0\\xa0\\xa0\\xa0\\xa0\\xa0\\xa0\\xa0\\xa0\\xa0\\xa0\\xa0\\xa0\\xa0\\xa0\\xa0\\xa0\\xa0\\xa0\\xa0\\xa0\\xa0\\xa0\\xa0\\xa0\\xa0\\xa0\\xa0\\xa0\\xa0\\xa0\\xa0\\xa0\\xa0\\xa0\\xa0\\xa0\\xa0\\xa0\\xa0\\xa0\\xa0\\xa0\\xa0\\xa0\\xa0\\xa0\\xa0\\xa0\\xa0le\\n      \\xa0\\xa0\\xa0\\xa0\\xa0\\xa0\\xa0\\xa0\\xa0\\xa0\\xa0\\xa0\\xa0\\xa0\\xa0\\xa0petites \\xa0étant rangées \\xa0\\xa0\\xa0\\xa0\\xa0\\xa0\\xa0\\xa0\\xa0\\xa0\\xa0\\xa0\\xa0\\xa0\\xa0\\xa0\\xa0\\xa0\\xa0\\xa0\\xa0son \\n   \\n  \\n       et \\n  \\n       toutes ses affaires se glissait doucement dans le lit à\\xa0 côté de\\n      Charles qui dormait.\\n      \\xa0\\xa0\\xa0\\xa0\\xa0\\xa0\\xa0\\xa0\\xa0\\xa0\\xa0\\xa0\\xa0\\xa0\\xa0\\xa0\\xa0\\xa0\\xa0\\xa0\\xa0\\xa0\\xa0\\xa0\\xa0\\xa0\\xa0\\xa0\\xa0\\xa0\\xa0\\xa0\\xa0\\xa0\\xa0\\xa0\\xa0\\xa0\\xa0\\xa0\\xa0\\xa0\\xa0\\xa0\\xa0\\xa0\\xa0\\xa0\\xa0\\xa0\\xa0\\xa0\\xa0\\xa0\\xa0\\xa0\\xa0tout à\\xa0 coup\\n      \\xa0\\xa0\\xa0\\xa0\\xa0\\xa0\\xa0\\xa0\\xa0\\xa0\\xa0\\xa0\\xa0\\xa0\\xa0\\xa0\\xa0\\xa0\\xa0 \\xa0\\xa0\\xa0à\\xa0 \\xa0\\xa0\\xa0\\xa0\\xa0\\xa0\\xa0\\xa0\\xa0\\xa0\\xa0\\xa0\\xa0\\xa0\\xa0\\xa0\\xa0\\xa0par crises \\xa0\\xa0elle\\n      longtemps\\n      \\xa0\\xa0\\xa0\\xa0\\xa0\\xa0\\xa0\\xa0\\xa0\\xa0\\xa0\\xa0\\xa0\\xa0\\xa0\\xa0\\xa0 \\xa0\\xa0\\xa0\\xa0en certains jours, elle se mettait à\\xa0  bavarder/ait \\n   \\n  \\n       tout à\\xa0 coup \\n  \\n       \\xa0\\xa0\\xa0\\xa0\\xa0\\xa0\\xa0\\xa0\\xa0\\xa0\\xa0\\xa0\\xa0\\xa0\\xa0\\xa0\\xa0\\xa0\\xa0\\xa0\\xa0\\xa0\\xa0\\xa0\\xa0\\xa0\\xa0\\xa0\\xa0\\xa0\\xa0\\xa0\\xa0\\xa0\\xa0\\xa0 ement\\n      \\xa0\\xa0\\xa0\\xa0\\xa0\\xa0\\xa0\\xa0\\xa0\\xa0\\xa0\\xa0 un entraînement\\n      avec une volubilité fébrile, contant des histoires, \\n   \\n  \\n       animée \\n  \\n       faisant des projets, s'adressant à\\xa0 tout, riant très\\n      haut, criant fort / faisant des exclamations, animée\\n      exhaltée, et à\\xa0 ces exhalt \\xa0exaltations succédaient des\\n      \\xa0\\xa0\\xa0\\xa0\\xa0\\xa0\\xa0\\xa0\\xa0\\xa0\\xa0\\xa0\\xa0\\xa0\\xa0\\xa0\\xa0\\xa0\\xa0\\xa0\\xa0\\xa0\\xa0\\xa0\\xa0\\xa0\\xa0\\xa0\\xa0\\xa0\\xa0\\xa0\\xa0\\xa0\\xa0\\xa0\\xa0\\xa0\\xa0\\xa0\\xa0\\xa0\\xa0\\xa0\\xa0\\xa0\\xa0\\xa0\\xa0\\xa0\\xa0\\xa0\\xa0\\xa0\\xa0\\xa0\\xa0\\xa0\\xa0\\xa0\\xa0\\xa0\\xa0\\xa0\\xa0\\xa0\\xa0\\xa0\\xa0ni\\n      torpeurs profondes où elle restait sans parler sans bouger\\n      \\xa0\\xa0\\xa0\\xa0\\xa0\\xa0\\xa0\\xa0\\xa0\\xa0\\xa0\\xa0\\xa0\\xa0\\xa0\\xa0\\xa0\\xa0\\xa0inerte, la tête \\xa0\\xa0\\xa0\\xa0\\xa0\\xa0\\xa0comme \\xa0\\n      la tête sur la poitrine, inerte et n'entendant plus\\n      \\xa0\\xa0\\xa0\\xa0\\xa0\\xa0\\xa0\\xa0alors\\n      \\xa0\\xa0\\xa0\\xa0\\xa0 alors \\xa0\\xa0\\xa0\\xa0\\xa0\\xa0la ranimait un peu \\xa0alors\\n      rien. - Ce qui lui faisait du bien c'était de se verser \\n      \\xa0\\xa0\\xa0\\xa0\\xa0\\xa0\\xa0\\xa0\\xa0\\xa0\\xa0\\xa0\\xa0\\xa0\\xa0\\xa0\\xa0\\xa0\\xa0\\xa0\\xa0\\xa0\\xa0\\xa0\\xa0\\xa0\\xa0\\xa0 de\\n      \\xa0\\xa0\\xa0\\xa0\\xa0\\xa0\\xa0\\xa0\\xa0\\xa0\\xa0poitrine une bouteille entière\\n      alors sur la tête un flacon entier/e d'eau de cologne.\\n      \\xa0\\xa0\\xa0\\xa0\\xa0\\xa0\\xa0\\xa0\\xa0\\xa0\\xa0\\xa0\\xa0\\xa0\\xa0\\xa0\\xa0\\xa0\\xa0\\xa0\\xa0\\xa0car et\\n      cela la ranimait. elle se fatiguait ainsi les \\n      \\xa0\\xa0\\xa0\\xa0\\xa0\\xa0\\xa0\\xa0\\xa0\\xa0\\xa0\\xa0\\xa0\\xa0\\xa0\\xa0\\xa0\\xa0\\xa0\\xa0\\xa0\\xa0\\xa0\\xa0\\xa0\\xa0\\xa0\\xa0\\xa0\\xa0\\xa0\\xa0\\xa0\\xa0\\xa0\\xa0\\xa0\\xa0\\xa0\\xa0\\xa0\\xa0\\xa0\\xa0\\xa0et portai/ant même\\n      nerfs par l'abus des senteurs, et portait\\n      \\xa0\\xa0\\xa0\\xa0d'ordinaire\\n      habituellement dans la poche de son tablier un flacon\\n      de sel anglais qu'elle respirait à\\xa0 toute minute.\\n      \\xa0\\xa0\\xa0\\xa0\\xa0\\xa0\\xa0\\xa0\\xa0\\xa0\\xa0\\xa0\\xa0\\xa0\\xa0\\xa0\\xa0\\xa0\\xa0\\xa0\\xa0\\xa0\\xa0\\xa0\\xa0\\xa0\\xa0sans cesse \\xa0\\xa0\\xa0\\xa0\\xa0\\xa0\\xa0\\xa0\\xa0\\xa0\\xa0\\xa0\\xa0\\xa0\\xa0\\xa0\\xa0\\xa0\\xa0\\xa0\\xa0\\xa0\\xa0\\xa0\\xa0\\xa0sans cesse \\n   \\n  \\n       continuellement\\n      et \\n  \\n       \\xa0\\xa0\\xa0\\xa0\\xa0\\xa0\\xa0\\xa0\\xa0\\xa0\\xa0\\xa0\\xa0\\xa0\\xa0 Comme elle se plaignait de Tostes continuellement\\n      à\\xa0 tout propos ( s'en prenant au pays lui-même du malheur\\n      \\xa0\\xa0\\xa0\\xa0\\xa0\\xa0\\xa0\\xa0\\xa0\\xa0\\xa0\\xa0\\xa0\\xa0\\xa0\\xa0\\xa0\\xa0\\xa0\\xa0\\xa0\\xa0\\xa0\\xa0\\xa0\\xa0\\xa0\\xa0\\xa0\\xa0\\xa0\\xa0\\xa0\\xa0\\xa0\\xa0\\xa0\\xa0\\xa0\\xa0\\xa0\\xa0\\xa0\\xa0\\xa0\\xa0\\xa0\\xa0\\xa0\\xa0\\xa0\\xa0\\xa0\\xa0\\xa0\\xa0\\xa0\\xa0\\xa0\\xa0\\xa0\\xa0\\xa0rêver\\n      d'y vivre) Charles qui se tourmentait à\\xa0 réfléchir sur\\n      \\xa0\\xa0\\xa0\\xa0sans y rien comprendre\\n      \\xa0\\xa0\\xa0\\xa0\\xa0\\xa0\\xa0\\xa0\\xa0\\xa0\\xa0\\xa0\\xa0\\xa0\\xa0\\xa0\\xa0\\xa0\\xa0\\xa0\\xa0\\xa0\\xa0\\xa0\\xa0\\xa0\\xa0\\xa0\\xa0\\xa0\\xa0\\xa0\\xa0\\xa0 tout seul* \\xa0\\xa0\\xa0\\xa0\\xa0\\xa0\\xa0\\xa0\\xa0\\xa0\\xa0\\xa0\\xa0\\xa0\\xa0en effet\\n      sa \\xa0\\xa0maladie \\xa0\\xa0s'imagina \\xa0\\xa0qu'elle pourrait bien avoir\\n      \\xa0\\xa0\\xa0\\xa0\\xa0\\xa0\\xa0\\xa0\\xa0\\xa0\\xa0\\xa0\\xa0\\xa0\\xa0\\xa0\\xa0\\xa0\\xa0\\xa0\\xa0\\xa0\\xa0\\xa0\\xa0\\xa0\\xa0\\xa0\\xa0\\xa0\\xa0\\xa0\\xa0\\xa0\\xa0\\xa0\\xa0\\xa0\\xa0\\xa0\\xa0\\xa0\\xa0\\xa0\\xa0\\xa0\\xa0\\xa0\\xa0\\xa0\\xa0\\xa0\\xa0\\xa0\\xa0\\xa0\\xa0\\xa0enfin \\xa0\\xa0\\xa0\\xa0\\xa0\\xa0\\xa0\\xa0\\xa0à\\xa0 \\n      \\xa0\\xa0\\xa0\\xa0\\xa0\\xa0\\xa0\\xa0\\xa0\\xa0\\xa0inconnue \\xa0\\xa0\\xa0\\xa0\\xa0\\xa0\\xa0\\xa0\\xa0\\xa0\\xa0\\xa0\\xa0\\xa0\\xa0\\xa0\\xa0\\xa0\\xa0\\xa0\\xa0\\xa0A\\xa0\\xa0\\xa0 \\xa0et s'arrêtant à\\xa0 cette idée \\n   \\n  \\n       B qu'il ne connaissait\\n      pas\\n      que peut-être l'air de tostes \\n  \\n       sa cause dans qqu' \\xa0influence locale X que l'air \\xa0du pays\\n      \\xa0\\xa0\\xa0\\xa0\\xa0\\xa0\\xa0\\xa0\\xa0\\xa0\\xa0secrète \\n      \\xa0\\xa0\\xa0\\xa0\\xa0\\xa0\\xa0\\xa0\\xa0\\xa0l'air de la contrée pr elle\\n      peut-être \\xa0était \\xa0\\xa0trop \\xa0vif \\xa0\\xa0\\xa0\\xa0\\xa0et s'arrêtant à\\xa0 cette idée\\n      songea sérieusement \\xa0\\xa0\\xa0\\xa0\\xa0\\xa0\\xa0\\xa0\\xa0\\xa0\\xa0\\xa0\\xa0afin de lui remettre\\n      pensa à\\xa0 aller s'établir ailleurs pr lui rétablir\\n      s/la santé. \\n   \\n  \\n      \\xa0\\n  \\n      \\n  \\n\\n  [Transcription de Michèle Lemal]\\n      \\n      \\n\\n\\n\""
      ]
     },
     "execution_count": 19,
     "metadata": {},
     "output_type": "execute_result"
    }
   ],
   "source": [
    "texty = folios[0].text\n",
    "texty"
   ]
  },
  {
   "cell_type": "markdown",
   "metadata": {},
   "source": [
    "I need to translate this into Python code to run it -- the html.parser should still be an issue."
   ]
  },
  {
   "cell_type": "code",
   "execution_count": 20,
   "metadata": {},
   "outputs": [],
   "source": [
    "# soup = BeautifulSoup(body, 'html.parser')\n",
    "# sents = nltk.sent_tokenize(soup.body.text)\n",
    "#     for x in :\n",
    "#         result = [sent for sent in sents if x.strip() in sent]\n",
    "#         w.write(\"############################# \" + x.strip() + \"#########################\")\n",
    "#         w.write(\"\\r\\n\")\n",
    "#         for s in result:\n",
    "#             w.write(s)\n",
    "#             w.write(\"\\r\\n\")\n",
    "           \n",
    "\n",
    "# path = 'bovary/folios/*.html'\n",
    "# files = glob.glob(path)\n",
    "\n",
    "# for file in files:\n",
    "#     html = codecs.open(file,'r').read()\n",
    "#     text_from_html(file, html)"
   ]
  },
  {
   "cell_type": "code",
   "execution_count": 21,
   "metadata": {},
   "outputs": [],
   "source": [
    "test_text = folios[0].soup"
   ]
  },
  {
   "cell_type": "code",
   "execution_count": 22,
   "metadata": {},
   "outputs": [
    {
     "data": {
      "text/plain": [
       "'I'"
      ]
     },
     "execution_count": 22,
     "metadata": {},
     "output_type": "execute_result"
    }
   ],
   "source": [
    "folios[1].segment"
   ]
  },
  {
   "cell_type": "code",
   "execution_count": 23,
   "metadata": {},
   "outputs": [
    {
     "data": {
      "text/plain": [
       "<__main__.Folio at 0x1a1db7bcf8>"
      ]
     },
     "execution_count": 23,
     "metadata": {},
     "output_type": "execute_result"
    }
   ],
   "source": [
    "folios[0]"
   ]
  },
  {
   "cell_type": "markdown",
   "metadata": {},
   "source": [
    "Being much more familiar with pandas than object oriented programming, I converted this work to a dataframe. I am having serious errors parsing and I imagine Ishan did too."
   ]
  },
  {
   "cell_type": "code",
   "execution_count": 24,
   "metadata": {},
   "outputs": [],
   "source": [
    "nbsp = u'\\xa0'\n",
    "nb=\"&nbsp\"\n",
    "\n",
    "\n",
    "w=open(\"flaubart.txt\", \"w+\")\n",
    "found=False\n",
    "foundword=\"\""
   ]
  },
  {
   "cell_type": "code",
   "execution_count": 25,
   "metadata": {},
   "outputs": [],
   "source": [
    "def tokenizing(txt):\n",
    "    w.write(txt)\n",
    "    words = nltk.word_tokenize(txt)\n",
    "\n",
    "    nopuncwords = ([word for word in words if any(c.isalpha() for c in word)])"
   ]
  },
  {
   "cell_type": "code",
   "execution_count": 26,
   "metadata": {},
   "outputs": [],
   "source": [
    "folios_text = [folio.text for folio in folios]\n",
    "folios_meta = [folio.meta for folio in folios]\n",
    "folios_chapter = [folio.chapter for folio in folios]\n",
    "folios_name = [folio.name for folio in folios]\n",
    "folios_version =[folio.version for folio in folios]  \n",
    "folios_soup =[folio.soup for folio in folios] "
   ]
  },
  {
   "cell_type": "code",
   "execution_count": 27,
   "metadata": {},
   "outputs": [
    {
     "data": {
      "text/html": [
       "<div>\n",
       "<style scoped>\n",
       "    .dataframe tbody tr th:only-of-type {\n",
       "        vertical-align: middle;\n",
       "    }\n",
       "\n",
       "    .dataframe tbody tr th {\n",
       "        vertical-align: top;\n",
       "    }\n",
       "\n",
       "    .dataframe thead th {\n",
       "        text-align: right;\n",
       "    }\n",
       "</style>\n",
       "<table border=\"1\" class=\"dataframe\">\n",
       "  <thead>\n",
       "    <tr style=\"text-align: right;\">\n",
       "      <th></th>\n",
       "      <th>Meta</th>\n",
       "      <th>Chapter</th>\n",
       "      <th>Name</th>\n",
       "      <th>Version</th>\n",
       "      <th>Soup</th>\n",
       "    </tr>\n",
       "  </thead>\n",
       "  <tbody>\n",
       "    <tr>\n",
       "      <th>0</th>\n",
       "      <td>I, chap. 9 : Départ de Tostes - brouillons, vo...</td>\n",
       "      <td>9</td>\n",
       "      <td>Départ de Tostes</td>\n",
       "      <td>brouillons</td>\n",
       "      <td>&lt;html&gt;&lt;head&gt;\n",
       "\t&lt;meta content=\"text/html; charse...</td>\n",
       "    </tr>\n",
       "    <tr>\n",
       "      <th>1</th>\n",
       "      <td>I, chap. 9 : Étouffement et tristesse - brouil...</td>\n",
       "      <td>9</td>\n",
       "      <td>Étouffement et tristesse</td>\n",
       "      <td>brouillons</td>\n",
       "      <td>&lt;html&gt;&lt;head&gt;\n",
       "\t&lt;meta content=\"text/html; charse...</td>\n",
       "    </tr>\n",
       "    <tr>\n",
       "      <th>2</th>\n",
       "      <td>II, chap. 6 : Lassitude de Léon - Brouillons, ...</td>\n",
       "      <td>6</td>\n",
       "      <td>Lassitude de Léon</td>\n",
       "      <td>Brouillons</td>\n",
       "      <td>&lt;html&gt;&lt;head&gt;\n",
       "\t&lt;meta content=\"text/html; charse...</td>\n",
       "    </tr>\n",
       "    <tr>\n",
       "      <th>3</th>\n",
       "      <td>I, chap.7 : Madame Bovary mère à Tostes - défi...</td>\n",
       "      <td>7</td>\n",
       "      <td>Madame Bovary mère à Tostes</td>\n",
       "      <td>définitif</td>\n",
       "      <td>&lt;html&gt;&lt;head&gt;\n",
       "\t&lt;meta content=\"text/html; charse...</td>\n",
       "    </tr>\n",
       "    <tr>\n",
       "      <th>4</th>\n",
       "      <td>I, chap.7 : Madame Bovary mère à Tostes - défi...</td>\n",
       "      <td>7</td>\n",
       "      <td>Madame Bovary mère à Tostes</td>\n",
       "      <td>définitif</td>\n",
       "      <td>&lt;html&gt;&lt;head&gt;\n",
       "\t&lt;meta content=\"text/html; charse...</td>\n",
       "    </tr>\n",
       "  </tbody>\n",
       "</table>\n",
       "</div>"
      ],
      "text/plain": [
       "                                                Meta Chapter  \\\n",
       "0  I, chap. 9 : Départ de Tostes - brouillons, vo...       9   \n",
       "1  I, chap. 9 : Étouffement et tristesse - brouil...       9   \n",
       "2  II, chap. 6 : Lassitude de Léon - Brouillons, ...       6   \n",
       "3  I, chap.7 : Madame Bovary mère à Tostes - défi...       7   \n",
       "4  I, chap.7 : Madame Bovary mère à Tostes - défi...       7   \n",
       "\n",
       "                          Name     Version  \\\n",
       "0             Départ de Tostes  brouillons   \n",
       "1     Étouffement et tristesse  brouillons   \n",
       "2            Lassitude de Léon  Brouillons   \n",
       "3  Madame Bovary mère à Tostes   définitif   \n",
       "4  Madame Bovary mère à Tostes   définitif   \n",
       "\n",
       "                                                Soup  \n",
       "0  <html><head>\n",
       "\t<meta content=\"text/html; charse...  \n",
       "1  <html><head>\n",
       "\t<meta content=\"text/html; charse...  \n",
       "2  <html><head>\n",
       "\t<meta content=\"text/html; charse...  \n",
       "3  <html><head>\n",
       "\t<meta content=\"text/html; charse...  \n",
       "4  <html><head>\n",
       "\t<meta content=\"text/html; charse...  "
      ]
     },
     "execution_count": 27,
     "metadata": {},
     "output_type": "execute_result"
    }
   ],
   "source": [
    "folios_data = pd.DataFrame(data=folios_meta, columns=['Meta'])\n",
    "folios_data['Chapter'] = folios_chapter\n",
    "folios_data['Name'] = folios_name\n",
    "folios_data['Version'] = folios_version\n",
    "folios_data['Soup'] = folios_soup\n",
    "folios_data.head()"
   ]
  },
  {
   "cell_type": "code",
   "execution_count": null,
   "metadata": {},
   "outputs": [],
   "source": []
  },
  {
   "cell_type": "markdown",
   "metadata": {},
   "source": [
    "This Ishan's leftover work here where he created a matrix similar to the dataframe I constructed."
   ]
  },
  {
   "cell_type": "code",
   "execution_count": 15,
   "metadata": {},
   "outputs": [
    {
     "ename": "NameError",
     "evalue": "name 'test_soup' is not defined",
     "output_type": "error",
     "traceback": [
      "\u001b[0;31m---------------------------------------------------------------------------\u001b[0m",
      "\u001b[0;31mNameError\u001b[0m                                 Traceback (most recent call last)",
      "\u001b[0;32m<ipython-input-15-8a203c2eb34f>\u001b[0m in \u001b[0;36m<module>\u001b[0;34m\u001b[0m\n\u001b[0;32m----> 1\u001b[0;31m \u001b[0mbody\u001b[0m \u001b[0;34m=\u001b[0m \u001b[0mtest_soup\u001b[0m\u001b[0;34m(\u001b[0m\u001b[0;34m'tbody'\u001b[0m\u001b[0;34m)\u001b[0m\u001b[0;34m[\u001b[0m\u001b[0;36m1\u001b[0m\u001b[0;34m]\u001b[0m\u001b[0;34m\u001b[0m\u001b[0;34m\u001b[0m\u001b[0m\n\u001b[0m\u001b[1;32m      2\u001b[0m \u001b[0mrows\u001b[0m \u001b[0;34m=\u001b[0m \u001b[0mbody\u001b[0m\u001b[0;34m(\u001b[0m\u001b[0;34m'tr'\u001b[0m\u001b[0;34m)\u001b[0m\u001b[0;34m\u001b[0m\u001b[0;34m\u001b[0m\u001b[0m\n",
      "\u001b[0;31mNameError\u001b[0m: name 'test_soup' is not defined"
     ]
    }
   ],
   "source": [
    "body = test_soup('tbody')[1]\n",
    "rows = body('tr')"
   ]
  },
  {
   "cell_type": "code",
   "execution_count": 89,
   "metadata": {},
   "outputs": [],
   "source": [
    "len(rows)"
   ]
  },
  {
   "cell_type": "code",
   "execution_count": 14,
   "metadata": {},
   "outputs": [
    {
     "ename": "NameError",
     "evalue": "name 'rows' is not defined",
     "output_type": "error",
     "traceback": [
      "\u001b[0;31m---------------------------------------------------------------------------\u001b[0m",
      "\u001b[0;31mNameError\u001b[0m                                 Traceback (most recent call last)",
      "\u001b[0;32m<ipython-input-14-904e85fa6bcc>\u001b[0m in \u001b[0;36m<module>\u001b[0;34m\u001b[0m\n\u001b[0;32m----> 1\u001b[0;31m \u001b[0mcolumns\u001b[0m \u001b[0;34m=\u001b[0m \u001b[0mrows\u001b[0m\u001b[0;34m[\u001b[0m\u001b[0;36m5\u001b[0m\u001b[0;34m]\u001b[0m\u001b[0;34m(\u001b[0m\u001b[0;34m'td'\u001b[0m\u001b[0;34m)\u001b[0m\u001b[0;34m\u001b[0m\u001b[0;34m\u001b[0m\u001b[0m\n\u001b[0m",
      "\u001b[0;31mNameError\u001b[0m: name 'rows' is not defined"
     ]
    }
   ],
   "source": [
    "columns = rows[5]('td')"
   ]
  },
  {
   "cell_type": "code",
   "execution_count": 13,
   "metadata": {},
   "outputs": [
    {
     "ename": "NameError",
     "evalue": "name 'columns' is not defined",
     "output_type": "error",
     "traceback": [
      "\u001b[0;31m---------------------------------------------------------------------------\u001b[0m",
      "\u001b[0;31mNameError\u001b[0m                                 Traceback (most recent call last)",
      "\u001b[0;32m<ipython-input-13-69876d7041a7>\u001b[0m in \u001b[0;36m<module>\u001b[0;34m\u001b[0m\n\u001b[0;32m----> 1\u001b[0;31m \u001b[0;32mfor\u001b[0m \u001b[0mc\u001b[0m \u001b[0;32min\u001b[0m \u001b[0mcolumns\u001b[0m\u001b[0;34m:\u001b[0m\u001b[0;34m\u001b[0m\u001b[0;34m\u001b[0m\u001b[0m\n\u001b[0m\u001b[1;32m      2\u001b[0m     \u001b[0;32mif\u001b[0m \u001b[0;34m'align'\u001b[0m \u001b[0;32min\u001b[0m \u001b[0mc\u001b[0m\u001b[0;34m.\u001b[0m\u001b[0mattrs\u001b[0m \u001b[0;32mand\u001b[0m \u001b[0mc\u001b[0m\u001b[0;34m[\u001b[0m\u001b[0;34m'align'\u001b[0m\u001b[0;34m]\u001b[0m \u001b[0;34m==\u001b[0m \u001b[0;34m'center'\u001b[0m\u001b[0;34m:\u001b[0m\u001b[0;34m\u001b[0m\u001b[0;34m\u001b[0m\u001b[0m\n\u001b[1;32m      3\u001b[0m         \u001b[0mmargin\u001b[0m \u001b[0;34m=\u001b[0m \u001b[0mc\u001b[0m\u001b[0;34m\u001b[0m\u001b[0;34m\u001b[0m\u001b[0m\n\u001b[1;32m      4\u001b[0m         \u001b[0mprint\u001b[0m\u001b[0;34m(\u001b[0m\u001b[0mmargin\u001b[0m\u001b[0;34m)\u001b[0m\u001b[0;34m\u001b[0m\u001b[0;34m\u001b[0m\u001b[0m\n\u001b[1;32m      5\u001b[0m         \u001b[0mprint\u001b[0m\u001b[0;34m(\u001b[0m\u001b[0;34m)\u001b[0m\u001b[0;34m\u001b[0m\u001b[0;34m\u001b[0m\u001b[0m\n",
      "\u001b[0;31mNameError\u001b[0m: name 'columns' is not defined"
     ]
    }
   ],
   "source": [
    "for c in columns:\n",
    "    if 'align' in c.attrs and c['align'] == 'center':\n",
    "        margin = c\n",
    "        print(margin)\n",
    "        print()\n",
    "        print(margin.text)"
   ]
  },
  {
   "cell_type": "code",
   "execution_count": null,
   "metadata": {},
   "outputs": [],
   "source": []
  },
  {
   "cell_type": "code",
   "execution_count": null,
   "metadata": {},
   "outputs": [],
   "source": []
  }
 ],
 "metadata": {
  "anaconda-cloud": {},
  "kernelspec": {
   "display_name": "Python 3",
   "language": "python",
   "name": "python3"
  },
  "language_info": {
   "codemirror_mode": {
    "name": "ipython",
    "version": 3
   },
   "file_extension": ".py",
   "mimetype": "text/x-python",
   "name": "python",
   "nbconvert_exporter": "python",
   "pygments_lexer": "ipython3",
   "version": "3.6.7"
  }
 },
 "nbformat": 4,
 "nbformat_minor": 2
}
