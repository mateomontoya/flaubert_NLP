{
 "cells": [
  {
   "cell_type": "code",
   "execution_count": 151,
   "metadata": {},
   "outputs": [],
   "source": [
    "from bs4 import BeautifulSoup\n",
    "from bs4.element import Comment\n",
    "import re\n",
    "import pandas as pd\n",
    "import numpy as np\n",
    "import nltk\n",
    "import html5lib\n",
    "import glob\n",
    "import codecs\n",
    "import os\n",
    "import cltk\n",
    "from cltk.tokenize.word import  WordTokenizer"
   ]
  },
  {
   "cell_type": "code",
   "execution_count": 152,
   "metadata": {},
   "outputs": [
    {
     "name": "stdout",
     "output_type": "stream",
     "text": [
      "The current working directory is /Users/mateomontoya/Desktop/work/projects_ongoing/flaubert2\n"
     ]
    }
   ],
   "source": [
    "print (\"The current working directory is\", os.getcwd())"
   ]
  },
  {
   "cell_type": "code",
   "execution_count": 153,
   "metadata": {},
   "outputs": [],
   "source": [
    "DATA_DIR = 'data'\n",
    "flaubert_fname = 'parsed.csv'\n",
    "flaubert_fname = os.path.join(DATA_DIR, flaubert_fname)"
   ]
  },
  {
   "cell_type": "code",
   "execution_count": 154,
   "metadata": {},
   "outputs": [
    {
     "data": {
      "text/plain": [
       "4494"
      ]
     },
     "execution_count": 154,
     "metadata": {},
     "output_type": "execute_result"
    }
   ],
   "source": [
    "flaubert_data = pd.read_csv(flaubert_fname)\n",
    "len(flaubert_data)"
   ]
  },
  {
   "cell_type": "code",
   "execution_count": 155,
   "metadata": {},
   "outputs": [
    {
     "data": {
      "text/html": [
       "<div>\n",
       "<style scoped>\n",
       "    .dataframe tbody tr th:only-of-type {\n",
       "        vertical-align: middle;\n",
       "    }\n",
       "\n",
       "    .dataframe tbody tr th {\n",
       "        vertical-align: top;\n",
       "    }\n",
       "\n",
       "    .dataframe thead th {\n",
       "        text-align: right;\n",
       "    }\n",
       "</style>\n",
       "<table border=\"1\" class=\"dataframe\">\n",
       "  <thead>\n",
       "    <tr style=\"text-align: right;\">\n",
       "      <th></th>\n",
       "      <th>chapter</th>\n",
       "      <th>folio</th>\n",
       "      <th>margins</th>\n",
       "      <th>margins_no_struck</th>\n",
       "      <th>margins_struck</th>\n",
       "      <th>metadata</th>\n",
       "      <th>previous</th>\n",
       "      <th>previous_no_struck</th>\n",
       "      <th>previous_struck</th>\n",
       "      <th>struck</th>\n",
       "      <th>text</th>\n",
       "      <th>underlined</th>\n",
       "      <th>version</th>\n",
       "    </tr>\n",
       "  </thead>\n",
       "  <tbody>\n",
       "    <tr>\n",
       "      <th>0</th>\n",
       "      <td>NaN</td>\n",
       "      <td>NaN</td>\n",
       "      <td>NaN</td>\n",
       "      <td>NaN</td>\n",
       "      <td>NaN</td>\n",
       "      <td>NaN</td>\n",
       "      <td>Madame Bovary ____________ 19 7bre 1851.</td>\n",
       "      <td>Madame Bovary ____________ 19 7bre 1851.</td>\n",
       "      <td>NaN</td>\n",
       "      <td>NaN</td>\n",
       "      <td>Madame Bovary ____________ 19 7bre 1851.</td>\n",
       "      <td>NaN</td>\n",
       "      <td>1</td>\n",
       "    </tr>\n",
       "    <tr>\n",
       "      <th>1</th>\n",
       "      <td>NaN</td>\n",
       "      <td>2v</td>\n",
       "      <td>NaN</td>\n",
       "      <td>NaN</td>\n",
       "      <td>NaN</td>\n",
       "      <td>I, chap 7 : La levrette Djali - brouillons, vo...</td>\n",
       "      <td>à Dieppe entendre des chanteurs Montagnards</td>\n",
       "      <td>à Dieppe entendre des chanteurs Montagnards</td>\n",
       "      <td>NaN</td>\n",
       "      <td>NaN</td>\n",
       "      <td>à Dieppe entendre des chanteurs Montagnards</td>\n",
       "      <td>NaN</td>\n",
       "      <td>1</td>\n",
       "    </tr>\n",
       "    <tr>\n",
       "      <th>2</th>\n",
       "      <td>1.0</td>\n",
       "      <td>3</td>\n",
       "      <td>allait puis cela en dôme tendu à 2 1 c'était d...</td>\n",
       "      <td>allait puis cela en dôme tendu à 2 1 c'était d...</td>\n",
       "      <td>ement lâche qu'il présenta au maître d'études ...</td>\n",
       "      <td>I, chap. 1 : L'entrée de Charles au collège : ...</td>\n",
       "      <td>Madame Bovary. I. Une heure trois et demie ven...</td>\n",
       "      <td>Madame Bovary. I. Une heure et demie venaient ...</td>\n",
       "      <td>trois et le maître d'études attendait le petit...</td>\n",
       "      <td>ement lâche trois et le maître d'études attend...</td>\n",
       "      <td>allait puis cela en dôme tendu à 2 1 c'était d...</td>\n",
       "      <td>des moyens nouveau nouveau</td>\n",
       "      <td>1</td>\n",
       "    </tr>\n",
       "    <tr>\n",
       "      <th>3</th>\n",
       "      <td>1.0</td>\n",
       "      <td>3v</td>\n",
       "      <td>ce fut un vacarme suprême. on comme un flot dé...</td>\n",
       "      <td>ce fut un vacarme suprême. comme un flot débor...</td>\n",
       "      <td>on puis com par peut à m alors, comme une band...</td>\n",
       "      <td>I, 1 : L'entrée de Charles au collège - Brouil...</td>\n",
       "      <td>- ce fut un vacarme suprême - les rires ... et...</td>\n",
       "      <td>- ce fut un vacarme suprême - les rires ... et...</td>\n",
       "      <td>comme veut prendre laissé un on allait ce s*/r...</td>\n",
       "      <td>on puis com par par peut à m alors, comme une ...</td>\n",
       "      <td>ce fut un vacarme suprême. on comme un flot dé...</td>\n",
       "      <td>NaN</td>\n",
       "      <td>1</td>\n",
       "    </tr>\n",
       "    <tr>\n",
       "      <th>4</th>\n",
       "      <td>1.0</td>\n",
       "      <td>4</td>\n",
       "      <td>de Rouen des moyens comme toujours ainsi que d...</td>\n",
       "      <td>de Rouen ainsi que d'usage chacun Mr Roger der...</td>\n",
       "      <td>des moyens comme toujours \"Mr Roger fort envir...</td>\n",
       "      <td>I, 1 : L'entrée de Charles au collège - Brouil...</td>\n",
       "      <td>Madame Bovary I. de Rouen Une heure et demie v...</td>\n",
       "      <td>Madame Bovary I. Une heure et demie venaient d...</td>\n",
       "      <td>de Rouen comme toujours Mr Roger l'étude des j...</td>\n",
       "      <td>de Rouen de des moyens comme toujours comme to...</td>\n",
       "      <td>Madame Bovary I. de Rouen Une heure et demie v...</td>\n",
       "      <td>des moyens nouveau et et le nouveau</td>\n",
       "      <td>1</td>\n",
       "    </tr>\n",
       "  </tbody>\n",
       "</table>\n",
       "</div>"
      ],
      "text/plain": [
       "   chapter folio                                            margins  \\\n",
       "0      NaN   NaN                                                NaN   \n",
       "1      NaN    2v                                                NaN   \n",
       "2      1.0     3  allait puis cela en dôme tendu à 2 1 c'était d...   \n",
       "3      1.0    3v  ce fut un vacarme suprême. on comme un flot dé...   \n",
       "4      1.0     4  de Rouen des moyens comme toujours ainsi que d...   \n",
       "\n",
       "                                   margins_no_struck  \\\n",
       "0                                                NaN   \n",
       "1                                                NaN   \n",
       "2  allait puis cela en dôme tendu à 2 1 c'était d...   \n",
       "3  ce fut un vacarme suprême. comme un flot débor...   \n",
       "4  de Rouen ainsi que d'usage chacun Mr Roger der...   \n",
       "\n",
       "                                      margins_struck  \\\n",
       "0                                                NaN   \n",
       "1                                                NaN   \n",
       "2  ement lâche qu'il présenta au maître d'études ...   \n",
       "3  on puis com par peut à m alors, comme une band...   \n",
       "4  des moyens comme toujours \"Mr Roger fort envir...   \n",
       "\n",
       "                                            metadata  \\\n",
       "0                                                NaN   \n",
       "1  I, chap 7 : La levrette Djali - brouillons, vo...   \n",
       "2  I, chap. 1 : L'entrée de Charles au collège : ...   \n",
       "3  I, 1 : L'entrée de Charles au collège - Brouil...   \n",
       "4  I, 1 : L'entrée de Charles au collège - Brouil...   \n",
       "\n",
       "                                            previous  \\\n",
       "0           Madame Bovary ____________ 19 7bre 1851.   \n",
       "1        à Dieppe entendre des chanteurs Montagnards   \n",
       "2  Madame Bovary. I. Une heure trois et demie ven...   \n",
       "3  - ce fut un vacarme suprême - les rires ... et...   \n",
       "4  Madame Bovary I. de Rouen Une heure et demie v...   \n",
       "\n",
       "                                  previous_no_struck  \\\n",
       "0           Madame Bovary ____________ 19 7bre 1851.   \n",
       "1        à Dieppe entendre des chanteurs Montagnards   \n",
       "2  Madame Bovary. I. Une heure et demie venaient ...   \n",
       "3  - ce fut un vacarme suprême - les rires ... et...   \n",
       "4  Madame Bovary I. Une heure et demie venaient d...   \n",
       "\n",
       "                                     previous_struck  \\\n",
       "0                                                NaN   \n",
       "1                                                NaN   \n",
       "2  trois et le maître d'études attendait le petit...   \n",
       "3  comme veut prendre laissé un on allait ce s*/r...   \n",
       "4  de Rouen comme toujours Mr Roger l'étude des j...   \n",
       "\n",
       "                                              struck  \\\n",
       "0                                                NaN   \n",
       "1                                                NaN   \n",
       "2  ement lâche trois et le maître d'études attend...   \n",
       "3  on puis com par par peut à m alors, comme une ...   \n",
       "4  de Rouen de des moyens comme toujours comme to...   \n",
       "\n",
       "                                                text  \\\n",
       "0           Madame Bovary ____________ 19 7bre 1851.   \n",
       "1        à Dieppe entendre des chanteurs Montagnards   \n",
       "2  allait puis cela en dôme tendu à 2 1 c'était d...   \n",
       "3  ce fut un vacarme suprême. on comme un flot dé...   \n",
       "4  Madame Bovary I. de Rouen Une heure et demie v...   \n",
       "\n",
       "                            underlined version  \n",
       "0                                  NaN       1  \n",
       "1                                  NaN       1  \n",
       "2           des moyens nouveau nouveau       1  \n",
       "3                                  NaN       1  \n",
       "4  des moyens nouveau et et le nouveau       1  "
      ]
     },
     "execution_count": 155,
     "metadata": {},
     "output_type": "execute_result"
    }
   ],
   "source": [
    "flaubert_data.head()"
   ]
  },
  {
   "cell_type": "code",
   "execution_count": 156,
   "metadata": {},
   "outputs": [
    {
     "data": {
      "text/html": [
       "<div>\n",
       "<style scoped>\n",
       "    .dataframe tbody tr th:only-of-type {\n",
       "        vertical-align: middle;\n",
       "    }\n",
       "\n",
       "    .dataframe tbody tr th {\n",
       "        vertical-align: top;\n",
       "    }\n",
       "\n",
       "    .dataframe thead th {\n",
       "        text-align: right;\n",
       "    }\n",
       "</style>\n",
       "<table border=\"1\" class=\"dataframe\">\n",
       "  <thead>\n",
       "    <tr style=\"text-align: right;\">\n",
       "      <th></th>\n",
       "      <th>folio</th>\n",
       "      <th>margins</th>\n",
       "      <th>margins_no_struck</th>\n",
       "      <th>margins_struck</th>\n",
       "      <th>metadata</th>\n",
       "      <th>previous</th>\n",
       "      <th>previous_no_struck</th>\n",
       "      <th>previous_struck</th>\n",
       "      <th>struck</th>\n",
       "      <th>text</th>\n",
       "      <th>underlined</th>\n",
       "      <th>version</th>\n",
       "    </tr>\n",
       "  </thead>\n",
       "  <tbody>\n",
       "    <tr>\n",
       "      <th>count</th>\n",
       "      <td>4371</td>\n",
       "      <td>4317</td>\n",
       "      <td>4252</td>\n",
       "      <td>3742</td>\n",
       "      <td>4493</td>\n",
       "      <td>4484</td>\n",
       "      <td>4484</td>\n",
       "      <td>4323</td>\n",
       "      <td>4346</td>\n",
       "      <td>4484</td>\n",
       "      <td>2833</td>\n",
       "      <td>4494</td>\n",
       "    </tr>\n",
       "    <tr>\n",
       "      <th>unique</th>\n",
       "      <td>838</td>\n",
       "      <td>4203</td>\n",
       "      <td>4179</td>\n",
       "      <td>3627</td>\n",
       "      <td>4430</td>\n",
       "      <td>4437</td>\n",
       "      <td>4436</td>\n",
       "      <td>4232</td>\n",
       "      <td>4265</td>\n",
       "      <td>4435</td>\n",
       "      <td>2570</td>\n",
       "      <td>8</td>\n",
       "    </tr>\n",
       "    <tr>\n",
       "      <th>top</th>\n",
       "      <td>250</td>\n",
       "      <td></td>\n",
       "      <td>tout</td>\n",
       "      <td>&amp;</td>\n",
       "      <td>II, chap. 8 : Rodolphe se moque des campagnard...</td>\n",
       "      <td>Qu'il me soit permis avant de vous entretenir ...</td>\n",
       "      <td>266 il marchait légèrement sourire aux lèvres ...</td>\n",
       "      <td>i</td>\n",
       "      <td>l</td>\n",
       "      <td>269 pas Cependant entre les deux rangées, des ...</td>\n",
       "      <td>dans</td>\n",
       "      <td>6</td>\n",
       "    </tr>\n",
       "    <tr>\n",
       "      <th>freq</th>\n",
       "      <td>10</td>\n",
       "      <td>52</td>\n",
       "      <td>4</td>\n",
       "      <td>8</td>\n",
       "      <td>3</td>\n",
       "      <td>3</td>\n",
       "      <td>3</td>\n",
       "      <td>13</td>\n",
       "      <td>9</td>\n",
       "      <td>3</td>\n",
       "      <td>14</td>\n",
       "      <td>640</td>\n",
       "    </tr>\n",
       "  </tbody>\n",
       "</table>\n",
       "</div>"
      ],
      "text/plain": [
       "       folio margins margins_no_struck margins_struck  \\\n",
       "count   4371    4317              4252           3742   \n",
       "unique   838    4203              4179           3627   \n",
       "top      250                      tout              &   \n",
       "freq      10      52                 4              8   \n",
       "\n",
       "                                                 metadata  \\\n",
       "count                                                4493   \n",
       "unique                                               4430   \n",
       "top     II, chap. 8 : Rodolphe se moque des campagnard...   \n",
       "freq                                                    3   \n",
       "\n",
       "                                                 previous  \\\n",
       "count                                                4484   \n",
       "unique                                               4437   \n",
       "top     Qu'il me soit permis avant de vous entretenir ...   \n",
       "freq                                                    3   \n",
       "\n",
       "                                       previous_no_struck previous_struck  \\\n",
       "count                                                4484            4323   \n",
       "unique                                               4436            4232   \n",
       "top     266 il marchait légèrement sourire aux lèvres ...               i   \n",
       "freq                                                    3              13   \n",
       "\n",
       "       struck                                               text underlined  \\\n",
       "count    4346                                               4484       2833   \n",
       "unique   4265                                               4435       2570   \n",
       "top         l  269 pas Cependant entre les deux rangées, des ...       dans   \n",
       "freq        9                                                  3         14   \n",
       "\n",
       "       version  \n",
       "count     4494  \n",
       "unique       8  \n",
       "top          6  \n",
       "freq       640  "
      ]
     },
     "execution_count": 156,
     "metadata": {},
     "output_type": "execute_result"
    }
   ],
   "source": [
    "flaubert_data.describe(include='O')"
   ]
  },
  {
   "cell_type": "code",
   "execution_count": null,
   "metadata": {},
   "outputs": [],
   "source": []
  },
  {
   "cell_type": "code",
   "execution_count": 157,
   "metadata": {},
   "outputs": [],
   "source": [
    "flaubert_data_cleaned = flaubert_data[flaubert_data['text'].notna() == True]"
   ]
  },
  {
   "cell_type": "code",
   "execution_count": 158,
   "metadata": {},
   "outputs": [],
   "source": [
    "from sklearn.feature_extraction.text import CountVectorizer\n",
    "\n",
    "countvec = CountVectorizer()\n",
    "sparse_dtm = countvec.fit_transform(flaubert_data_cleaned['text'])"
   ]
  },
  {
   "cell_type": "code",
   "execution_count": 159,
   "metadata": {},
   "outputs": [
    {
     "data": {
      "text/plain": [
       "<4484x33659 sparse matrix of type '<class 'numpy.int64'>'\n",
       "\twith 871241 stored elements in Compressed Sparse Row format>"
      ]
     },
     "execution_count": 159,
     "metadata": {},
     "output_type": "execute_result"
    }
   ],
   "source": [
    "sparse_dtm"
   ]
  },
  {
   "cell_type": "code",
   "execution_count": 161,
   "metadata": {},
   "outputs": [
    {
     "data": {
      "text/plain": [
       "4484"
      ]
     },
     "execution_count": 161,
     "metadata": {},
     "output_type": "execute_result"
    }
   ],
   "source": [
    "\n",
    "dtm = pd.DataFrame(sparse_dtm.toarray(), columns=countvec.get_feature_names(), index=flaubert_data_cleaned.index)\n",
    "dtm['version'] = flaubert_data_cleaned['version']\n"
   ]
  },
  {
   "cell_type": "code",
   "execution_count": 80,
   "metadata": {},
   "outputs": [
    {
     "data": {
      "text/plain": [
       "de      60149\n",
       "la      42179\n",
       "il      35495\n",
       "le      30434\n",
       "elle    29583\n",
       "les     27821\n",
       "et      26857\n",
       "en      23862\n",
       "un      23360\n",
       "des     20103\n",
       "dtype: int64"
      ]
     },
     "execution_count": 80,
     "metadata": {},
     "output_type": "execute_result"
    }
   ],
   "source": [
    "dtm.sum().sort_values(ascending=False).head(10)"
   ]
  },
  {
   "cell_type": "code",
   "execution_count": 81,
   "metadata": {},
   "outputs": [
    {
     "data": {
      "text/plain": [
       "de      13.414139\n",
       "la       9.406557\n",
       "il       7.915923\n",
       "le       6.787244\n",
       "elle     6.597458\n",
       "dtype: float64"
      ]
     },
     "execution_count": 81,
     "metadata": {},
     "output_type": "execute_result"
    }
   ],
   "source": [
    "dtm.mean().sort_values(ascending=False).head()"
   ]
  },
  {
   "cell_type": "code",
   "execution_count": 163,
   "metadata": {
    "scrolled": true
   },
   "outputs": [],
   "source": [
    "from sklearn.feature_extraction.text import TfidfVectorizer"
   ]
  },
  {
   "cell_type": "code",
   "execution_count": 164,
   "metadata": {},
   "outputs": [
    {
     "data": {
      "text/plain": [
       "<4484x33659 sparse matrix of type '<class 'numpy.float64'>'\n",
       "\twith 871241 stored elements in Compressed Sparse Row format>"
      ]
     },
     "execution_count": 164,
     "metadata": {},
     "output_type": "execute_result"
    }
   ],
   "source": [
    "tfidfvec = TfidfVectorizer()\n",
    "sparse_tfidf = tfidfvec.fit_transform(flaubert_data_cleaned['text'])\n",
    "sparse_tfidf"
   ]
  },
  {
   "cell_type": "code",
   "execution_count": 165,
   "metadata": {},
   "outputs": [
    {
     "data": {
      "text/html": [
       "<div>\n",
       "<style scoped>\n",
       "    .dataframe tbody tr th:only-of-type {\n",
       "        vertical-align: middle;\n",
       "    }\n",
       "\n",
       "    .dataframe tbody tr th {\n",
       "        vertical-align: top;\n",
       "    }\n",
       "\n",
       "    .dataframe thead th {\n",
       "        text-align: right;\n",
       "    }\n",
       "</style>\n",
       "<table border=\"1\" class=\"dataframe\">\n",
       "  <thead>\n",
       "    <tr style=\"text-align: right;\">\n",
       "      <th></th>\n",
       "      <th>00</th>\n",
       "      <th>000</th>\n",
       "      <th>05</th>\n",
       "      <th>070</th>\n",
       "      <th>10</th>\n",
       "      <th>100</th>\n",
       "      <th>1000</th>\n",
       "      <th>100fr</th>\n",
       "      <th>100v</th>\n",
       "      <th>101</th>\n",
       "      <th>...</th>\n",
       "      <th>ôte</th>\n",
       "      <th>ôter</th>\n",
       "      <th>ôté</th>\n",
       "      <th>ôtée</th>\n",
       "      <th>ûla</th>\n",
       "      <th>ût</th>\n",
       "      <th>ηναυρμε</th>\n",
       "      <th>ψdans</th>\n",
       "      <th>ψet</th>\n",
       "      <th>ψtu</th>\n",
       "    </tr>\n",
       "  </thead>\n",
       "  <tbody>\n",
       "    <tr>\n",
       "      <th>0</th>\n",
       "      <td>0.0</td>\n",
       "      <td>0.0</td>\n",
       "      <td>0.0</td>\n",
       "      <td>0.0</td>\n",
       "      <td>0.0</td>\n",
       "      <td>0.0</td>\n",
       "      <td>0.0</td>\n",
       "      <td>0.0</td>\n",
       "      <td>0.0</td>\n",
       "      <td>0.0</td>\n",
       "      <td>...</td>\n",
       "      <td>0.0</td>\n",
       "      <td>0.0</td>\n",
       "      <td>0.0</td>\n",
       "      <td>0.0</td>\n",
       "      <td>0.0</td>\n",
       "      <td>0.0</td>\n",
       "      <td>0.0</td>\n",
       "      <td>0.0</td>\n",
       "      <td>0.0</td>\n",
       "      <td>0.0</td>\n",
       "    </tr>\n",
       "    <tr>\n",
       "      <th>1</th>\n",
       "      <td>0.0</td>\n",
       "      <td>0.0</td>\n",
       "      <td>0.0</td>\n",
       "      <td>0.0</td>\n",
       "      <td>0.0</td>\n",
       "      <td>0.0</td>\n",
       "      <td>0.0</td>\n",
       "      <td>0.0</td>\n",
       "      <td>0.0</td>\n",
       "      <td>0.0</td>\n",
       "      <td>...</td>\n",
       "      <td>0.0</td>\n",
       "      <td>0.0</td>\n",
       "      <td>0.0</td>\n",
       "      <td>0.0</td>\n",
       "      <td>0.0</td>\n",
       "      <td>0.0</td>\n",
       "      <td>0.0</td>\n",
       "      <td>0.0</td>\n",
       "      <td>0.0</td>\n",
       "      <td>0.0</td>\n",
       "    </tr>\n",
       "    <tr>\n",
       "      <th>2</th>\n",
       "      <td>0.0</td>\n",
       "      <td>0.0</td>\n",
       "      <td>0.0</td>\n",
       "      <td>0.0</td>\n",
       "      <td>0.0</td>\n",
       "      <td>0.0</td>\n",
       "      <td>0.0</td>\n",
       "      <td>0.0</td>\n",
       "      <td>0.0</td>\n",
       "      <td>0.0</td>\n",
       "      <td>...</td>\n",
       "      <td>0.0</td>\n",
       "      <td>0.0</td>\n",
       "      <td>0.0</td>\n",
       "      <td>0.0</td>\n",
       "      <td>0.0</td>\n",
       "      <td>0.0</td>\n",
       "      <td>0.0</td>\n",
       "      <td>0.0</td>\n",
       "      <td>0.0</td>\n",
       "      <td>0.0</td>\n",
       "    </tr>\n",
       "    <tr>\n",
       "      <th>3</th>\n",
       "      <td>0.0</td>\n",
       "      <td>0.0</td>\n",
       "      <td>0.0</td>\n",
       "      <td>0.0</td>\n",
       "      <td>0.0</td>\n",
       "      <td>0.0</td>\n",
       "      <td>0.0</td>\n",
       "      <td>0.0</td>\n",
       "      <td>0.0</td>\n",
       "      <td>0.0</td>\n",
       "      <td>...</td>\n",
       "      <td>0.0</td>\n",
       "      <td>0.0</td>\n",
       "      <td>0.0</td>\n",
       "      <td>0.0</td>\n",
       "      <td>0.0</td>\n",
       "      <td>0.0</td>\n",
       "      <td>0.0</td>\n",
       "      <td>0.0</td>\n",
       "      <td>0.0</td>\n",
       "      <td>0.0</td>\n",
       "    </tr>\n",
       "    <tr>\n",
       "      <th>4</th>\n",
       "      <td>0.0</td>\n",
       "      <td>0.0</td>\n",
       "      <td>0.0</td>\n",
       "      <td>0.0</td>\n",
       "      <td>0.0</td>\n",
       "      <td>0.0</td>\n",
       "      <td>0.0</td>\n",
       "      <td>0.0</td>\n",
       "      <td>0.0</td>\n",
       "      <td>0.0</td>\n",
       "      <td>...</td>\n",
       "      <td>0.0</td>\n",
       "      <td>0.0</td>\n",
       "      <td>0.0</td>\n",
       "      <td>0.0</td>\n",
       "      <td>0.0</td>\n",
       "      <td>0.0</td>\n",
       "      <td>0.0</td>\n",
       "      <td>0.0</td>\n",
       "      <td>0.0</td>\n",
       "      <td>0.0</td>\n",
       "    </tr>\n",
       "  </tbody>\n",
       "</table>\n",
       "<p>5 rows × 33659 columns</p>\n",
       "</div>"
      ],
      "text/plain": [
       "    00  000   05  070   10  100  1000  100fr  100v  101  ...  ôte  ôter  ôté  \\\n",
       "0  0.0  0.0  0.0  0.0  0.0  0.0   0.0    0.0   0.0  0.0  ...  0.0   0.0  0.0   \n",
       "1  0.0  0.0  0.0  0.0  0.0  0.0   0.0    0.0   0.0  0.0  ...  0.0   0.0  0.0   \n",
       "2  0.0  0.0  0.0  0.0  0.0  0.0   0.0    0.0   0.0  0.0  ...  0.0   0.0  0.0   \n",
       "3  0.0  0.0  0.0  0.0  0.0  0.0   0.0    0.0   0.0  0.0  ...  0.0   0.0  0.0   \n",
       "4  0.0  0.0  0.0  0.0  0.0  0.0   0.0    0.0   0.0  0.0  ...  0.0   0.0  0.0   \n",
       "\n",
       "   ôtée  ûla   ût  ηναυρμε  ψdans  ψet  ψtu  \n",
       "0   0.0  0.0  0.0      0.0    0.0  0.0  0.0  \n",
       "1   0.0  0.0  0.0      0.0    0.0  0.0  0.0  \n",
       "2   0.0  0.0  0.0      0.0    0.0  0.0  0.0  \n",
       "3   0.0  0.0  0.0      0.0    0.0  0.0  0.0  \n",
       "4   0.0  0.0  0.0      0.0    0.0  0.0  0.0  \n",
       "\n",
       "[5 rows x 33659 columns]"
      ]
     },
     "execution_count": 165,
     "metadata": {},
     "output_type": "execute_result"
    }
   ],
   "source": [
    "tfidf = pd.DataFrame(sparse_tfidf.toarray(), columns=tfidfvec.get_feature_names(), index=flaubert_data_cleaned.index)\n",
    "tfidf.head()"
   ]
  },
  {
   "cell_type": "code",
   "execution_count": 166,
   "metadata": {},
   "outputs": [],
   "source": [
    "tfidf['version'] = flaubert_data_cleaned['version']"
   ]
  },
  {
   "cell_type": "code",
   "execution_count": 168,
   "metadata": {},
   "outputs": [],
   "source": [
    "version_1 = tfidf[tfidf['version'] == '1']\n",
    "version_2 = tfidf[tfidf['version'] == '2']\n",
    "version_3 = tfidf[tfidf['version'] == '3']\n",
    "version_4 = tfidf[tfidf['version'] == '4']\n",
    "version_5 = tfidf[tfidf['version'] == '5']\n",
    "version_6 = tfidf[tfidf['version'] == '6']\n",
    "version_C = tfidf[tfidf['version'] == 'C']\n",
    "version_D = tfidf[tfidf['version'] == 'D']"
   ]
  },
  {
   "cell_type": "markdown",
   "metadata": {},
   "source": [
    "Below we are looking at the highest TF-IDF value for each edited version of Madame Bovary -- these are the most unique words of each work."
   ]
  },
  {
   "cell_type": "code",
   "execution_count": 177,
   "metadata": {
    "scrolled": true
   },
   "outputs": [
    {
     "data": {
      "text/plain": [
       "montagnards     0.636493\n",
       "chanteurs       0.556231\n",
       "1851            0.545226\n",
       "____________    0.519860\n",
       "efflanqué       0.486845\n",
       "silencieuses    0.486797\n",
       "planant         0.472511\n",
       "nastasie        0.458772\n",
       "saillant        0.457385\n",
       "rapides         0.455579\n",
       "dtype: float64"
      ]
     },
     "execution_count": 177,
     "metadata": {},
     "output_type": "execute_result"
    }
   ],
   "source": [
    "version_1.max(numeric_only=True).sort_values(ascending=False).head(10)"
   ]
  },
  {
   "cell_type": "code",
   "execution_count": 178,
   "metadata": {},
   "outputs": [
    {
     "data": {
      "text/plain": [
       "riboudet        0.463505\n",
       "étroits         0.458599\n",
       "incessamment    0.458369\n",
       "épais           0.430157\n",
       "origine         0.417460\n",
       "aime            0.415095\n",
       "fente           0.413572\n",
       "diaphane        0.395969\n",
       "définitif       0.390146\n",
       "supposait       0.374418\n",
       "dtype: float64"
      ]
     },
     "execution_count": 178,
     "metadata": {},
     "output_type": "execute_result"
    }
   ],
   "source": [
    "version_2.max(numeric_only=True).sort_values(ascending=False).head(10)"
   ]
  },
  {
   "cell_type": "code",
   "execution_count": 179,
   "metadata": {},
   "outputs": [
    {
     "data": {
      "text/plain": [
       "illis          0.591319\n",
       "revinrent      0.555216\n",
       "fr             0.540222\n",
       "nous           0.520979\n",
       "lisait         0.518452\n",
       "agriculteur    0.452805\n",
       "elle           0.452604\n",
       "vous           0.450724\n",
       "on             0.448036\n",
       "100            0.438062\n",
       "dtype: float64"
      ]
     },
     "execution_count": 179,
     "metadata": {},
     "output_type": "execute_result"
    }
   ],
   "source": [
    "version_3.max(numeric_only=True).sort_values(ascending=False).head(10)"
   ]
  },
  {
   "cell_type": "code",
   "execution_count": 180,
   "metadata": {},
   "outputs": [
    {
     "data": {
      "text/plain": [
       "tendon        0.579155\n",
       "trône         0.526892\n",
       "tu            0.509264\n",
       "illis         0.478728\n",
       "flacon        0.434136\n",
       "bouleversé    0.420514\n",
       "elle          0.417635\n",
       "union         0.408990\n",
       "sangsues      0.403448\n",
       "fr            0.390946\n",
       "dtype: float64"
      ]
     },
     "execution_count": 180,
     "metadata": {},
     "output_type": "execute_result"
    }
   ],
   "source": [
    "version_4.max(numeric_only=True).sort_values(ascending=False).head(10)"
   ]
  },
  {
   "cell_type": "code",
   "execution_count": 181,
   "metadata": {},
   "outputs": [
    {
     "data": {
      "text/plain": [
       "enlever     0.502857\n",
       "vous        0.449080\n",
       "fr          0.437596\n",
       "tu          0.425072\n",
       "294         0.411333\n",
       "lenteurs    0.403337\n",
       "ils         0.403239\n",
       "bouquet     0.381294\n",
       "st          0.355622\n",
       "pilon       0.354686\n",
       "dtype: float64"
      ]
     },
     "execution_count": 181,
     "metadata": {},
     "output_type": "execute_result"
    }
   ],
   "source": [
    "version_5.max(numeric_only=True).sort_values(ascending=False).head(10)"
   ]
  },
  {
   "cell_type": "code",
   "execution_count": 182,
   "metadata": {},
   "outputs": [
    {
     "data": {
      "text/plain": [
       "tu          0.506936\n",
       "lisez       0.482840\n",
       "vous        0.455027\n",
       "cercueil    0.412646\n",
       "il          0.403007\n",
       "apaisés     0.379614\n",
       "elle        0.362250\n",
       "aurais      0.338854\n",
       "de          0.330487\n",
       "bridoux     0.329942\n",
       "dtype: float64"
      ]
     },
     "execution_count": 182,
     "metadata": {},
     "output_type": "execute_result"
    }
   ],
   "source": [
    "version_6.max(numeric_only=True).sort_values(ascending=False).head(10)"
   ]
  },
  {
   "cell_type": "code",
   "execution_count": 183,
   "metadata": {},
   "outputs": [
    {
     "data": {
      "text/plain": [
       "lisez          0.513933\n",
       "tu             0.510527\n",
       "riboudet       0.414357\n",
       "cours          0.400318\n",
       "vous           0.393823\n",
       "adieu          0.382066\n",
       "agriculteur    0.367737\n",
       "marquis        0.365759\n",
       "vestes         0.361081\n",
       "collection     0.359121\n",
       "dtype: float64"
      ]
     },
     "execution_count": 183,
     "metadata": {},
     "output_type": "execute_result"
    }
   ],
   "source": [
    "version_C.max(numeric_only=True).sort_values(ascending=False).head(10)"
   ]
  },
  {
   "cell_type": "code",
   "execution_count": 184,
   "metadata": {},
   "outputs": [
    {
     "data": {
      "text/plain": [
       "adieu        0.435808\n",
       "vous         0.428876\n",
       "cours        0.412135\n",
       "marquis      0.394885\n",
       "lisez        0.382330\n",
       "tu           0.373595\n",
       "bridoux      0.364769\n",
       "de           0.362419\n",
       "riboudet     0.362349\n",
       "concluait    0.360276\n",
       "dtype: float64"
      ]
     },
     "execution_count": 184,
     "metadata": {},
     "output_type": "execute_result"
    }
   ],
   "source": [
    "version_D.max(numeric_only=True).sort_values(ascending=False).head(10)"
   ]
  },
  {
   "cell_type": "markdown",
   "metadata": {},
   "source": [
    "## Analyzing TF-IDF Matrix by collected Text of each Version"
   ]
  },
  {
   "cell_type": "code",
   "execution_count": 132,
   "metadata": {},
   "outputs": [],
   "source": [
    "def flaubert_combine_versions_on_text(data):\n",
    "    versions = ['1', '2', '3', '4', '5', '6', 'C', 'D']\n",
    "    \n",
    "    def remove_digits(txt):\n",
    "        return ''.join([ch for ch in txt if not ch.isdigit()])\n",
    "    \n",
    "    data['text'] = data['text'].dropna()\n",
    "\n",
    "    version_1 = data[data['version'] == '1']\n",
    "    version_2 = data[data['version'] == '2']\n",
    "    version_3 = data[data['version'] == '3']\n",
    "    version_4 = data[data['version'] == '4']\n",
    "    version_5 = data[data['version'] == '5']\n",
    "    version_6 = data[data['version'] == '6']\n",
    "    version_C = data[data['version'] == 'C']\n",
    "    version_D = data[data['version'] == 'D']\n",
    "    \n",
    "     #version 1\n",
    "    version_1 = ' '.join([str(x) for x in version_1.text])\n",
    "    print(version_1[:1000])\n",
    "    version_2 = ' '.join([str(x) for x in version_2.text])\n",
    "    version_3 = ' '.join([str(x) for x in version_3.text])\n",
    "    version_4 = ' '.join([str(x) for x in version_4.text])\n",
    "    version_5 = ' '.join([str(x) for x in version_5.text])\n",
    "    version_6 = ' '.join([str(x) for x in version_6.text])\n",
    "    version_C = ' '.join([str(x) for x in version_C.text])\n",
    "    version_D = ' '.join([str(x) for x in version_D.text])\n",
    "    \n",
    "    data = {'version': versions,\n",
    "        'text': [version_1, version_2, version_3, version_4, version_5, version_6, version_C, version_D]}\n",
    "    \n",
    "    return pd.DataFrame(data=data)\n",
    "    \n",
    "    "
   ]
  },
  {
   "cell_type": "code",
   "execution_count": 133,
   "metadata": {},
   "outputs": [
    {
     "name": "stdout",
     "output_type": "stream",
     "text": [
      "Madame Bovary ____________ 19 7bre 1851. à Dieppe entendre des chanteurs Montagnards allait puis cela en dôme tendu à 2 1 c'était dur et côtelés régulièrement mou propre comme un melon – lâche et abandonné à son poids suivait partait ensuite une façon de sac qui se terminait par un polygone cartonné couvert d'une broderie en soutache compliquée et d'où pendait à distance au bout d'un long cordon trop mince un petit croisillon de fils d'or en manière de gland. Madame Bovary. I. à l'horloge Une heure trois et demie venaient de sonner / et le maître du collège d'études attendait le petit coup d'avant le quart se préparant déjà à faire réciter les leçons / quand le proviseur entra dans l'étude des moyens suivi d'un jeune garçon d'environ quinze ans et d'un dom garçon de classe qui portait un grand pupitre. il était suivi d'un nouveau habillé en bourgeois qu'il présenta au maître d'études en lui disant & d'un garçon de classe qui portait un gd pupitre. {{il y eut. tout le monde se leva comm\n"
     ]
    },
    {
     "data": {
      "text/html": [
       "<div>\n",
       "<style scoped>\n",
       "    .dataframe tbody tr th:only-of-type {\n",
       "        vertical-align: middle;\n",
       "    }\n",
       "\n",
       "    .dataframe tbody tr th {\n",
       "        vertical-align: top;\n",
       "    }\n",
       "\n",
       "    .dataframe thead th {\n",
       "        text-align: right;\n",
       "    }\n",
       "</style>\n",
       "<table border=\"1\" class=\"dataframe\">\n",
       "  <thead>\n",
       "    <tr style=\"text-align: right;\">\n",
       "      <th></th>\n",
       "      <th>version</th>\n",
       "      <th>text</th>\n",
       "    </tr>\n",
       "  </thead>\n",
       "  <tbody>\n",
       "    <tr>\n",
       "      <th>0</th>\n",
       "      <td>1</td>\n",
       "      <td>Madame Bovary ____________ 19 7bre 1851. à Die...</td>\n",
       "    </tr>\n",
       "    <tr>\n",
       "      <th>1</th>\n",
       "      <td>2</td>\n",
       "      <td>Blainville- Crevon Buchy Quincampoix la Boissi...</td>\n",
       "    </tr>\n",
       "    <tr>\n",
       "      <th>2</th>\n",
       "      <td>3</td>\n",
       "      <td>259 tout lui parut être autour d'elle envelopp...</td>\n",
       "    </tr>\n",
       "    <tr>\n",
       "      <th>3</th>\n",
       "      <td>4</td>\n",
       "      <td>296 [[ elle avait peur d'en perdre qque chose,...</td>\n",
       "    </tr>\n",
       "    <tr>\n",
       "      <th>4</th>\n",
       "      <td>5</td>\n",
       "      <td>III ( II ) Lestiboudois Hippolyte doit paraîtr...</td>\n",
       "    </tr>\n",
       "  </tbody>\n",
       "</table>\n",
       "</div>"
      ],
      "text/plain": [
       "  version                                               text\n",
       "0       1  Madame Bovary ____________ 19 7bre 1851. à Die...\n",
       "1       2  Blainville- Crevon Buchy Quincampoix la Boissi...\n",
       "2       3  259 tout lui parut être autour d'elle envelopp...\n",
       "3       4  296 [[ elle avait peur d'en perdre qque chose,...\n",
       "4       5  III ( II ) Lestiboudois Hippolyte doit paraîtr..."
      ]
     },
     "execution_count": 133,
     "metadata": {},
     "output_type": "execute_result"
    }
   ],
   "source": [
    "flaubert_version = flaubert_combine_versions_on_text(flaubert_data)\n",
    "flaubert_version.head()"
   ]
  },
  {
   "cell_type": "code",
   "execution_count": 134,
   "metadata": {},
   "outputs": [],
   "source": [
    "countvec = CountVectorizer()\n",
    "sparse_dtm = countvec.fit_transform(flaubert_version['text'])"
   ]
  },
  {
   "cell_type": "code",
   "execution_count": 137,
   "metadata": {},
   "outputs": [
    {
     "data": {
      "text/html": [
       "<div>\n",
       "<style scoped>\n",
       "    .dataframe tbody tr th:only-of-type {\n",
       "        vertical-align: middle;\n",
       "    }\n",
       "\n",
       "    .dataframe tbody tr th {\n",
       "        vertical-align: top;\n",
       "    }\n",
       "\n",
       "    .dataframe thead th {\n",
       "        text-align: right;\n",
       "    }\n",
       "</style>\n",
       "<table border=\"1\" class=\"dataframe\">\n",
       "  <thead>\n",
       "    <tr style=\"text-align: right;\">\n",
       "      <th></th>\n",
       "      <th>00</th>\n",
       "      <th>000</th>\n",
       "      <th>05</th>\n",
       "      <th>070</th>\n",
       "      <th>10</th>\n",
       "      <th>100</th>\n",
       "      <th>1000</th>\n",
       "      <th>100fr</th>\n",
       "      <th>100v</th>\n",
       "      <th>101</th>\n",
       "      <th>...</th>\n",
       "      <th>ôte</th>\n",
       "      <th>ôter</th>\n",
       "      <th>ôté</th>\n",
       "      <th>ôtée</th>\n",
       "      <th>ûla</th>\n",
       "      <th>ût</th>\n",
       "      <th>ηναυρμε</th>\n",
       "      <th>ψdans</th>\n",
       "      <th>ψet</th>\n",
       "      <th>ψtu</th>\n",
       "    </tr>\n",
       "  </thead>\n",
       "  <tbody>\n",
       "    <tr>\n",
       "      <th>0</th>\n",
       "      <td>1</td>\n",
       "      <td>1</td>\n",
       "      <td>1</td>\n",
       "      <td>0</td>\n",
       "      <td>5</td>\n",
       "      <td>8</td>\n",
       "      <td>0</td>\n",
       "      <td>0</td>\n",
       "      <td>0</td>\n",
       "      <td>6</td>\n",
       "      <td>...</td>\n",
       "      <td>0</td>\n",
       "      <td>1</td>\n",
       "      <td>0</td>\n",
       "      <td>0</td>\n",
       "      <td>0</td>\n",
       "      <td>0</td>\n",
       "      <td>0</td>\n",
       "      <td>0</td>\n",
       "      <td>0</td>\n",
       "      <td>0</td>\n",
       "    </tr>\n",
       "    <tr>\n",
       "      <th>1</th>\n",
       "      <td>1</td>\n",
       "      <td>1</td>\n",
       "      <td>0</td>\n",
       "      <td>0</td>\n",
       "      <td>3</td>\n",
       "      <td>1</td>\n",
       "      <td>0</td>\n",
       "      <td>0</td>\n",
       "      <td>1</td>\n",
       "      <td>0</td>\n",
       "      <td>...</td>\n",
       "      <td>0</td>\n",
       "      <td>3</td>\n",
       "      <td>0</td>\n",
       "      <td>0</td>\n",
       "      <td>0</td>\n",
       "      <td>0</td>\n",
       "      <td>0</td>\n",
       "      <td>0</td>\n",
       "      <td>1</td>\n",
       "      <td>0</td>\n",
       "    </tr>\n",
       "    <tr>\n",
       "      <th>2</th>\n",
       "      <td>0</td>\n",
       "      <td>0</td>\n",
       "      <td>0</td>\n",
       "      <td>0</td>\n",
       "      <td>2</td>\n",
       "      <td>10</td>\n",
       "      <td>0</td>\n",
       "      <td>2</td>\n",
       "      <td>0</td>\n",
       "      <td>0</td>\n",
       "      <td>...</td>\n",
       "      <td>0</td>\n",
       "      <td>1</td>\n",
       "      <td>0</td>\n",
       "      <td>0</td>\n",
       "      <td>1</td>\n",
       "      <td>0</td>\n",
       "      <td>1</td>\n",
       "      <td>0</td>\n",
       "      <td>0</td>\n",
       "      <td>0</td>\n",
       "    </tr>\n",
       "    <tr>\n",
       "      <th>3</th>\n",
       "      <td>0</td>\n",
       "      <td>0</td>\n",
       "      <td>0</td>\n",
       "      <td>0</td>\n",
       "      <td>2</td>\n",
       "      <td>1</td>\n",
       "      <td>0</td>\n",
       "      <td>0</td>\n",
       "      <td>0</td>\n",
       "      <td>0</td>\n",
       "      <td>...</td>\n",
       "      <td>0</td>\n",
       "      <td>0</td>\n",
       "      <td>0</td>\n",
       "      <td>0</td>\n",
       "      <td>0</td>\n",
       "      <td>0</td>\n",
       "      <td>0</td>\n",
       "      <td>0</td>\n",
       "      <td>0</td>\n",
       "      <td>0</td>\n",
       "    </tr>\n",
       "    <tr>\n",
       "      <th>4</th>\n",
       "      <td>0</td>\n",
       "      <td>6</td>\n",
       "      <td>0</td>\n",
       "      <td>1</td>\n",
       "      <td>8</td>\n",
       "      <td>4</td>\n",
       "      <td>1</td>\n",
       "      <td>1</td>\n",
       "      <td>0</td>\n",
       "      <td>0</td>\n",
       "      <td>...</td>\n",
       "      <td>0</td>\n",
       "      <td>0</td>\n",
       "      <td>1</td>\n",
       "      <td>5</td>\n",
       "      <td>0</td>\n",
       "      <td>1</td>\n",
       "      <td>0</td>\n",
       "      <td>1</td>\n",
       "      <td>1</td>\n",
       "      <td>0</td>\n",
       "    </tr>\n",
       "  </tbody>\n",
       "</table>\n",
       "<p>5 rows × 33660 columns</p>\n",
       "</div>"
      ],
      "text/plain": [
       "   00  000  05  070  10  100  1000  100fr  100v  101  ...  ôte  ôter  ôté  \\\n",
       "0   1    1   1    0   5    8     0      0     0    6  ...    0     1    0   \n",
       "1   1    1   0    0   3    1     0      0     1    0  ...    0     3    0   \n",
       "2   0    0   0    0   2   10     0      2     0    0  ...    0     1    0   \n",
       "3   0    0   0    0   2    1     0      0     0    0  ...    0     0    0   \n",
       "4   0    6   0    1   8    4     1      1     0    0  ...    0     0    1   \n",
       "\n",
       "   ôtée  ûla  ût  ηναυρμε  ψdans  ψet  ψtu  \n",
       "0     0    0   0        0      0    0    0  \n",
       "1     0    0   0        0      0    1    0  \n",
       "2     0    1   0        1      0    0    0  \n",
       "3     0    0   0        0      0    0    0  \n",
       "4     5    0   1        0      1    1    0  \n",
       "\n",
       "[5 rows x 33660 columns]"
      ]
     },
     "execution_count": 137,
     "metadata": {},
     "output_type": "execute_result"
    }
   ],
   "source": [
    "dtm_version = pd.DataFrame(sparse_dtm.toarray(), columns=countvec.get_feature_names(), index=flaubert_version.index)\n",
    "dtm_version.head()"
   ]
  },
  {
   "cell_type": "code",
   "execution_count": 138,
   "metadata": {},
   "outputs": [
    {
     "data": {
      "text/plain": [
       "de      60149\n",
       "la      42179\n",
       "il      35495\n",
       "le      30434\n",
       "elle    29583\n",
       "les     27821\n",
       "et      26857\n",
       "en      23862\n",
       "un      23360\n",
       "des     20103\n",
       "dtype: int64"
      ]
     },
     "execution_count": 138,
     "metadata": {},
     "output_type": "execute_result"
    }
   ],
   "source": [
    "dtm_version.sum().sort_values(ascending=False).head(10)"
   ]
  },
  {
   "cell_type": "code",
   "execution_count": 140,
   "metadata": {},
   "outputs": [
    {
     "data": {
      "text/plain": [
       "de      7518.625\n",
       "la      5272.375\n",
       "il      4436.875\n",
       "le      3804.250\n",
       "elle    3697.875\n",
       "les     3477.625\n",
       "et      3357.125\n",
       "en      2982.750\n",
       "un      2920.000\n",
       "des     2512.875\n",
       "dtype: float64"
      ]
     },
     "execution_count": 140,
     "metadata": {},
     "output_type": "execute_result"
    }
   ],
   "source": [
    "dtm_version.mean().sort_values(ascending=False).head(10)"
   ]
  },
  {
   "cell_type": "code",
   "execution_count": 141,
   "metadata": {},
   "outputs": [],
   "source": [
    "from sklearn.feature_extraction.text import TfidfVectorizer"
   ]
  },
  {
   "cell_type": "code",
   "execution_count": 400,
   "metadata": {},
   "outputs": [
    {
     "data": {
      "text/plain": [
       "<8x453626 sparse matrix of type '<class 'numpy.float64'>'\n",
       "\twith 677606 stored elements in Compressed Sparse Row format>"
      ]
     },
     "execution_count": 400,
     "metadata": {},
     "output_type": "execute_result"
    }
   ],
   "source": [
    "tfidfvec = TfidfVectorizer(stop_words=stop_words, ngram_range=(1, 2))\n",
    "sparse_tfidf = tfidfvec.fit_transform(flaubert_version['text'])\n",
    "sparse_tfidf"
   ]
  },
  {
   "cell_type": "code",
   "execution_count": 401,
   "metadata": {},
   "outputs": [
    {
     "data": {
      "text/html": [
       "<div>\n",
       "<style scoped>\n",
       "    .dataframe tbody tr th:only-of-type {\n",
       "        vertical-align: middle;\n",
       "    }\n",
       "\n",
       "    .dataframe tbody tr th {\n",
       "        vertical-align: top;\n",
       "    }\n",
       "\n",
       "    .dataframe thead th {\n",
       "        text-align: right;\n",
       "    }\n",
       "</style>\n",
       "<table border=\"1\" class=\"dataframe\">\n",
       "  <thead>\n",
       "    <tr style=\"text-align: right;\">\n",
       "      <th></th>\n",
       "      <th>00</th>\n",
       "      <th>00 15</th>\n",
       "      <th>00 250</th>\n",
       "      <th>000</th>\n",
       "      <th>000 100</th>\n",
       "      <th>000 fr</th>\n",
       "      <th>000 kil</th>\n",
       "      <th>000 kilog</th>\n",
       "      <th>000 lieu</th>\n",
       "      <th>000 sacrifice</th>\n",
       "      <th>...</th>\n",
       "      <th>ût plus</th>\n",
       "      <th>ηναυρμε</th>\n",
       "      <th>ηναυρμε pardon</th>\n",
       "      <th>ψdans</th>\n",
       "      <th>ψdans allées</th>\n",
       "      <th>ψet</th>\n",
       "      <th>ψet air</th>\n",
       "      <th>ψet effet</th>\n",
       "      <th>ψtu</th>\n",
       "      <th>ψtu banquier</th>\n",
       "    </tr>\n",
       "  </thead>\n",
       "  <tbody>\n",
       "    <tr>\n",
       "      <th>0</th>\n",
       "      <td>0.000618</td>\n",
       "      <td>0.000737</td>\n",
       "      <td>0.000000</td>\n",
       "      <td>0.000467</td>\n",
       "      <td>0.000737</td>\n",
       "      <td>0.000000</td>\n",
       "      <td>0.000000</td>\n",
       "      <td>0.000000</td>\n",
       "      <td>0.000000</td>\n",
       "      <td>0.000000</td>\n",
       "      <td>...</td>\n",
       "      <td>0.000000</td>\n",
       "      <td>0.000000</td>\n",
       "      <td>0.000000</td>\n",
       "      <td>0.000000</td>\n",
       "      <td>0.000000</td>\n",
       "      <td>0.000000</td>\n",
       "      <td>0.000000</td>\n",
       "      <td>0.000000</td>\n",
       "      <td>0.000000</td>\n",
       "      <td>0.000000</td>\n",
       "    </tr>\n",
       "    <tr>\n",
       "      <th>1</th>\n",
       "      <td>0.000633</td>\n",
       "      <td>0.000000</td>\n",
       "      <td>0.000756</td>\n",
       "      <td>0.000479</td>\n",
       "      <td>0.000000</td>\n",
       "      <td>0.000633</td>\n",
       "      <td>0.000000</td>\n",
       "      <td>0.000000</td>\n",
       "      <td>0.000000</td>\n",
       "      <td>0.000000</td>\n",
       "      <td>...</td>\n",
       "      <td>0.000000</td>\n",
       "      <td>0.000000</td>\n",
       "      <td>0.000000</td>\n",
       "      <td>0.000000</td>\n",
       "      <td>0.000000</td>\n",
       "      <td>0.000633</td>\n",
       "      <td>0.000756</td>\n",
       "      <td>0.000000</td>\n",
       "      <td>0.000000</td>\n",
       "      <td>0.000000</td>\n",
       "    </tr>\n",
       "    <tr>\n",
       "      <th>2</th>\n",
       "      <td>0.000000</td>\n",
       "      <td>0.000000</td>\n",
       "      <td>0.000000</td>\n",
       "      <td>0.000000</td>\n",
       "      <td>0.000000</td>\n",
       "      <td>0.000000</td>\n",
       "      <td>0.000000</td>\n",
       "      <td>0.000000</td>\n",
       "      <td>0.000000</td>\n",
       "      <td>0.000000</td>\n",
       "      <td>...</td>\n",
       "      <td>0.000000</td>\n",
       "      <td>0.000723</td>\n",
       "      <td>0.000723</td>\n",
       "      <td>0.000000</td>\n",
       "      <td>0.000000</td>\n",
       "      <td>0.000000</td>\n",
       "      <td>0.000000</td>\n",
       "      <td>0.000000</td>\n",
       "      <td>0.000000</td>\n",
       "      <td>0.000000</td>\n",
       "    </tr>\n",
       "    <tr>\n",
       "      <th>3</th>\n",
       "      <td>0.000000</td>\n",
       "      <td>0.000000</td>\n",
       "      <td>0.000000</td>\n",
       "      <td>0.000000</td>\n",
       "      <td>0.000000</td>\n",
       "      <td>0.000000</td>\n",
       "      <td>0.000000</td>\n",
       "      <td>0.000000</td>\n",
       "      <td>0.000000</td>\n",
       "      <td>0.000000</td>\n",
       "      <td>...</td>\n",
       "      <td>0.000000</td>\n",
       "      <td>0.000000</td>\n",
       "      <td>0.000000</td>\n",
       "      <td>0.000000</td>\n",
       "      <td>0.000000</td>\n",
       "      <td>0.000000</td>\n",
       "      <td>0.000000</td>\n",
       "      <td>0.000000</td>\n",
       "      <td>0.000000</td>\n",
       "      <td>0.000000</td>\n",
       "    </tr>\n",
       "    <tr>\n",
       "      <th>4</th>\n",
       "      <td>0.000000</td>\n",
       "      <td>0.000000</td>\n",
       "      <td>0.000000</td>\n",
       "      <td>0.002781</td>\n",
       "      <td>0.000000</td>\n",
       "      <td>0.001838</td>\n",
       "      <td>0.000731</td>\n",
       "      <td>0.000731</td>\n",
       "      <td>0.000731</td>\n",
       "      <td>0.000000</td>\n",
       "      <td>...</td>\n",
       "      <td>0.000731</td>\n",
       "      <td>0.000000</td>\n",
       "      <td>0.000000</td>\n",
       "      <td>0.000731</td>\n",
       "      <td>0.000731</td>\n",
       "      <td>0.000613</td>\n",
       "      <td>0.000000</td>\n",
       "      <td>0.000731</td>\n",
       "      <td>0.000000</td>\n",
       "      <td>0.000000</td>\n",
       "    </tr>\n",
       "    <tr>\n",
       "      <th>5</th>\n",
       "      <td>0.000000</td>\n",
       "      <td>0.000000</td>\n",
       "      <td>0.000000</td>\n",
       "      <td>0.000385</td>\n",
       "      <td>0.000000</td>\n",
       "      <td>0.000000</td>\n",
       "      <td>0.000000</td>\n",
       "      <td>0.000000</td>\n",
       "      <td>0.000000</td>\n",
       "      <td>0.000607</td>\n",
       "      <td>...</td>\n",
       "      <td>0.000000</td>\n",
       "      <td>0.000000</td>\n",
       "      <td>0.000000</td>\n",
       "      <td>0.000000</td>\n",
       "      <td>0.000000</td>\n",
       "      <td>0.000000</td>\n",
       "      <td>0.000000</td>\n",
       "      <td>0.000000</td>\n",
       "      <td>0.000607</td>\n",
       "      <td>0.000607</td>\n",
       "    </tr>\n",
       "    <tr>\n",
       "      <th>6</th>\n",
       "      <td>0.000000</td>\n",
       "      <td>0.000000</td>\n",
       "      <td>0.000000</td>\n",
       "      <td>0.000000</td>\n",
       "      <td>0.000000</td>\n",
       "      <td>0.000000</td>\n",
       "      <td>0.000000</td>\n",
       "      <td>0.000000</td>\n",
       "      <td>0.000000</td>\n",
       "      <td>0.000000</td>\n",
       "      <td>...</td>\n",
       "      <td>0.000000</td>\n",
       "      <td>0.000000</td>\n",
       "      <td>0.000000</td>\n",
       "      <td>0.000000</td>\n",
       "      <td>0.000000</td>\n",
       "      <td>0.000000</td>\n",
       "      <td>0.000000</td>\n",
       "      <td>0.000000</td>\n",
       "      <td>0.000000</td>\n",
       "      <td>0.000000</td>\n",
       "    </tr>\n",
       "    <tr>\n",
       "      <th>7</th>\n",
       "      <td>0.000000</td>\n",
       "      <td>0.000000</td>\n",
       "      <td>0.000000</td>\n",
       "      <td>0.000000</td>\n",
       "      <td>0.000000</td>\n",
       "      <td>0.000000</td>\n",
       "      <td>0.000000</td>\n",
       "      <td>0.000000</td>\n",
       "      <td>0.000000</td>\n",
       "      <td>0.000000</td>\n",
       "      <td>...</td>\n",
       "      <td>0.000000</td>\n",
       "      <td>0.000000</td>\n",
       "      <td>0.000000</td>\n",
       "      <td>0.000000</td>\n",
       "      <td>0.000000</td>\n",
       "      <td>0.000000</td>\n",
       "      <td>0.000000</td>\n",
       "      <td>0.000000</td>\n",
       "      <td>0.000000</td>\n",
       "      <td>0.000000</td>\n",
       "    </tr>\n",
       "  </tbody>\n",
       "</table>\n",
       "<p>8 rows × 453626 columns</p>\n",
       "</div>"
      ],
      "text/plain": [
       "         00     00 15    00 250       000   000 100    000 fr   000 kil  \\\n",
       "0  0.000618  0.000737  0.000000  0.000467  0.000737  0.000000  0.000000   \n",
       "1  0.000633  0.000000  0.000756  0.000479  0.000000  0.000633  0.000000   \n",
       "2  0.000000  0.000000  0.000000  0.000000  0.000000  0.000000  0.000000   \n",
       "3  0.000000  0.000000  0.000000  0.000000  0.000000  0.000000  0.000000   \n",
       "4  0.000000  0.000000  0.000000  0.002781  0.000000  0.001838  0.000731   \n",
       "5  0.000000  0.000000  0.000000  0.000385  0.000000  0.000000  0.000000   \n",
       "6  0.000000  0.000000  0.000000  0.000000  0.000000  0.000000  0.000000   \n",
       "7  0.000000  0.000000  0.000000  0.000000  0.000000  0.000000  0.000000   \n",
       "\n",
       "   000 kilog  000 lieu  000 sacrifice  ...   ût plus   ηναυρμε  \\\n",
       "0   0.000000  0.000000       0.000000  ...  0.000000  0.000000   \n",
       "1   0.000000  0.000000       0.000000  ...  0.000000  0.000000   \n",
       "2   0.000000  0.000000       0.000000  ...  0.000000  0.000723   \n",
       "3   0.000000  0.000000       0.000000  ...  0.000000  0.000000   \n",
       "4   0.000731  0.000731       0.000000  ...  0.000731  0.000000   \n",
       "5   0.000000  0.000000       0.000607  ...  0.000000  0.000000   \n",
       "6   0.000000  0.000000       0.000000  ...  0.000000  0.000000   \n",
       "7   0.000000  0.000000       0.000000  ...  0.000000  0.000000   \n",
       "\n",
       "   ηναυρμε pardon     ψdans  ψdans allées       ψet   ψet air  ψet effet  \\\n",
       "0        0.000000  0.000000      0.000000  0.000000  0.000000   0.000000   \n",
       "1        0.000000  0.000000      0.000000  0.000633  0.000756   0.000000   \n",
       "2        0.000723  0.000000      0.000000  0.000000  0.000000   0.000000   \n",
       "3        0.000000  0.000000      0.000000  0.000000  0.000000   0.000000   \n",
       "4        0.000000  0.000731      0.000731  0.000613  0.000000   0.000731   \n",
       "5        0.000000  0.000000      0.000000  0.000000  0.000000   0.000000   \n",
       "6        0.000000  0.000000      0.000000  0.000000  0.000000   0.000000   \n",
       "7        0.000000  0.000000      0.000000  0.000000  0.000000   0.000000   \n",
       "\n",
       "        ψtu  ψtu banquier  \n",
       "0  0.000000      0.000000  \n",
       "1  0.000000      0.000000  \n",
       "2  0.000000      0.000000  \n",
       "3  0.000000      0.000000  \n",
       "4  0.000000      0.000000  \n",
       "5  0.000607      0.000607  \n",
       "6  0.000000      0.000000  \n",
       "7  0.000000      0.000000  \n",
       "\n",
       "[8 rows x 453626 columns]"
      ]
     },
     "execution_count": 401,
     "metadata": {},
     "output_type": "execute_result"
    }
   ],
   "source": [
    "tfidf = pd.DataFrame(sparse_tfidf.toarray(), columns=tfidfvec.get_feature_names(), index=flaubert_version.index)\n",
    "tfidf"
   ]
  },
  {
   "cell_type": "code",
   "execution_count": 402,
   "metadata": {},
   "outputs": [
    {
     "data": {
      "text/plain": [
       "pr               0.371212\n",
       "plus             0.369122\n",
       "illis            0.285389\n",
       "bien             0.243254\n",
       "emma             0.222109\n",
       "puis             0.218042\n",
       "mr               0.194141\n",
       "charles          0.192571\n",
       "léon             0.186457\n",
       "dit              0.154511\n",
       "rodolphe         0.139828\n",
       "ainsi            0.135166\n",
       "bovary           0.128948\n",
       "homais           0.121754\n",
       "cependant        0.119605\n",
       "rien             0.117874\n",
       "qq               0.115168\n",
       "temps            0.112453\n",
       "toute            0.108037\n",
       "ah               0.106604\n",
       "quelque          0.106226\n",
       "après            0.103621\n",
       "toujours         0.101676\n",
       "dont             0.100089\n",
       "autres           0.092323\n",
       "faisait          0.091846\n",
       "toutes           0.090194\n",
       "coup             0.089739\n",
       "tête             0.089270\n",
       "enfin            0.089012\n",
       "                   ...   \n",
       "oui              0.059224\n",
       "ensuite          0.059170\n",
       "suisse           0.059061\n",
       "père             0.058581\n",
       "mme              0.058510\n",
       "tant             0.057239\n",
       "monde            0.055638\n",
       "côté             0.055515\n",
       "près             0.054024\n",
       "yonville         0.053704\n",
       "voyait           0.053577\n",
       "argent           0.053359\n",
       "gds              0.053306\n",
       "jours            0.053283\n",
       "maison           0.053101\n",
       "prtant           0.052948\n",
       "autour           0.052869\n",
       "souvent          0.052799\n",
       "voix             0.052261\n",
       "doute            0.051424\n",
       "semblait         0.051291\n",
       "dire             0.050687\n",
       "qqfois           0.050633\n",
       "quelques         0.050557\n",
       "mains            0.049720\n",
       "seul             0.049480\n",
       "pendant          0.049480\n",
       "petite           0.048853\n",
       "petits           0.048278\n",
       "quelque chose    0.047717\n",
       "Length: 100, dtype: float64"
      ]
     },
     "execution_count": 402,
     "metadata": {},
     "output_type": "execute_result"
    }
   ],
   "source": [
    "tfidf.max().sort_values(ascending=False).head(100)"
   ]
  },
  {
   "cell_type": "markdown",
   "metadata": {},
   "source": [
    "Wants to work with Balzac and LaMartine -- style he is rebelling against and rejecting. But one of the characters is out of romantic poetry so he is mimicking that style. \n",
    "\n",
    "Naddaff is writing about the first exchanges of letters -- not writing Bovary but a different book -- letters are the basis of particular scenes in Bovary -- literal experiences are translated. Is the style he's using in the letters similar or different to Bovary? Developing the voice of one of his characters in the letters.\n",
    "\n",
    "Also, looking at Colet's (his lovers) poetry at that moment.\n",
    "\n",
    "Look at: \"Ce qui est dans la coeur des femmes\"\n",
    "\n",
    "\"Fleurs du midi\"\n",
    "\n",
    "\"Penserosa\"\n",
    "\n",
    "\"Charlotte Corday\"\n",
    "\n",
    "\"La Jeunesse Mirabeau\"\n",
    "\n",
    "*Poesie Completes*\n",
    "\n",
    "ARTFL -- "
   ]
  },
  {
   "cell_type": "code",
   "execution_count": 186,
   "metadata": {},
   "outputs": [],
   "source": [
    "from sklearn.decomposition import LatentDirichletAllocation"
   ]
  },
  {
   "cell_type": "code",
   "execution_count": 188,
   "metadata": {},
   "outputs": [],
   "source": [
    "from stop_words import get_stop_words\n",
    "\n",
    "stop_words = get_stop_words('fr')"
   ]
  },
  {
   "cell_type": "code",
   "execution_count": 191,
   "metadata": {},
   "outputs": [],
   "source": [
    "tfidf_vectorizer = TfidfVectorizer(max_df=0.80, min_df=0.50,\n",
    "                                   stop_words=stop_words)\n",
    "tfidf = tfidf_vectorizer.fit_transform(flaubert_version['text'])"
   ]
  },
  {
   "cell_type": "code",
   "execution_count": 194,
   "metadata": {},
   "outputs": [],
   "source": [
    "tf_vectorizer = CountVectorizer(max_df=0.80, min_df=0.50,\n",
    "                                stop_words=stop_words\n",
    "                                )\n",
    "tf = tf_vectorizer.fit_transform(flaubert_version['text'])"
   ]
  },
  {
   "cell_type": "markdown",
   "metadata": {},
   "source": [
    "## Analyzing Topics with Latent Dirichlet Allocation"
   ]
  },
  {
   "cell_type": "code",
   "execution_count": 403,
   "metadata": {},
   "outputs": [],
   "source": [
    "import warnings\n",
    "warnings.filterwarnings(\"ignore\", category=DeprecationWarning) \n",
    "lda = LatentDirichletAllocation(max_iter=20, n_components=8)\n",
    "lda = lda.fit(tf)"
   ]
  },
  {
   "cell_type": "code",
   "execution_count": 404,
   "metadata": {},
   "outputs": [],
   "source": [
    "def print_top_words(model, feature_names, n_top_words):\n",
    "    for topic_idx, topic in enumerate(model.components_):\n",
    "        print(\"\\nTopic #{}:\".format(topic_idx))\n",
    "        print(\" \".join([feature_names[i]\n",
    "                        for i in topic.argsort()[:-n_top_words - 1:-1]]))\n",
    "    print()"
   ]
  },
  {
   "cell_type": "code",
   "execution_count": 405,
   "metadata": {},
   "outputs": [
    {
     "name": "stdout",
     "output_type": "stream",
     "text": [
      "\n",
      "Topic #0:\n",
      "romaine entreferma propager étirait débitant liqueur détesta tensions puant pre cuit épaississait luxueuses écarquillant pendantes capote qfois habituelle ble moralisation\n",
      "\n",
      "Topic #1:\n",
      "canivet lucie opération fr abricots mécanique chérir av tonneau évanouir lagardy acide machine loge convalescence terrible pistolets écouta edgar cataplasmes\n",
      "\n",
      "Topic #2:\n",
      "romaine entreferma propager étirait débitant liqueur détesta tensions puant pre cuit épaississait luxueuses écarquillant pendantes capote qfois habituelle ble moralisation\n",
      "\n",
      "Topic #3:\n",
      "canivet vinçart rolet larivière rouault cierges caron recula bridoux catastrophe camarades frappa mensonge chirurgien bourgogne suivit sauta sanglottait arriéré émétique\n",
      "\n",
      "Topic #4:\n",
      "boulanger président estrade mairie fr animaux médaille lampions agriculture multitude préfet engrais culture bestiaux cultivateurs tente industrie oserays pré poursuivit\n",
      "\n",
      "Topic #5:\n",
      "fr chapelle procuration boulevard succession voici tombeaux portail tilbury timidité balcon vinçart capharnaüm duc barque flèche émerveillement fournitures cocher nef\n",
      "\n",
      "Topic #6:\n",
      "hôtesse riboudet politesses ph gamins énergies déménagement habiter gênée cartes affaiblit av pentes origine mollesses mâle angélus folio écharpes bestiaux\n",
      "\n",
      "Topic #7:\n",
      "rouault bertaux marquis mare souper blé nastasie av dieppe noce espalier culture peintes dubuc isolé soeurs seules lacs pupitre gendre\n",
      "\n"
     ]
    }
   ],
   "source": [
    "tf_feature_names = tf_vectorizer.get_feature_names()\n",
    "print_top_words(lda, tf_feature_names, 20)"
   ]
  },
  {
   "cell_type": "code",
   "execution_count": 406,
   "metadata": {},
   "outputs": [
    {
     "data": {
      "text/plain": [
       "array([[8.72724170e-06, 8.73569571e-06, 8.72724170e-06, 8.73566690e-06,\n",
       "        8.73615678e-06, 8.73560047e-06, 8.73739079e-06, 9.99938865e-01],\n",
       "       [1.05645942e-05, 1.05738894e-05, 1.05645942e-05, 1.05751189e-05,\n",
       "        1.05760696e-05, 1.05737939e-05, 9.99925995e-01, 1.05771857e-05],\n",
       "       [9.28748468e-06, 9.29611227e-06, 9.28748468e-06, 9.29565455e-06,\n",
       "        9.99934945e-01, 9.29463448e-06, 9.29770560e-06, 9.29561660e-06],\n",
       "       [8.58990428e-06, 9.99939826e-01, 8.58990428e-06, 8.59857140e-06,\n",
       "        8.59925406e-06, 8.59894658e-06, 8.59819116e-06, 8.59898901e-06],\n",
       "       [8.99476717e-06, 9.00511143e-06, 8.99476717e-06, 9.00321396e-06,\n",
       "        9.00275610e-06, 9.99936993e-01, 9.00305473e-06, 9.00306704e-06],\n",
       "       [7.47386539e-06, 1.20474743e-01, 7.47386539e-06, 7.35036201e-01,\n",
       "        7.48315197e-06, 1.44451660e-01, 7.48135950e-06, 7.48366156e-06],\n",
       "       [1.21430469e-05, 2.12091034e-01, 1.21430469e-05, 1.63365927e-01,\n",
       "        1.16565916e-01, 1.53358240e-01, 1.42500181e-01, 2.12094416e-01],\n",
       "       [1.04576688e-05, 2.05869577e-01, 1.04576688e-05, 1.49176387e-01,\n",
       "        1.07415668e-01, 1.48242970e-01, 1.49866457e-01, 2.39408025e-01]])"
      ]
     },
     "execution_count": 406,
     "metadata": {},
     "output_type": "execute_result"
    }
   ],
   "source": [
    "topic_dist = lda.transform(tf)\n",
    "topic_dist"
   ]
  },
  {
   "cell_type": "code",
   "execution_count": 407,
   "metadata": {},
   "outputs": [
    {
     "data": {
      "text/html": [
       "<div>\n",
       "<style scoped>\n",
       "    .dataframe tbody tr th:only-of-type {\n",
       "        vertical-align: middle;\n",
       "    }\n",
       "\n",
       "    .dataframe tbody tr th {\n",
       "        vertical-align: top;\n",
       "    }\n",
       "\n",
       "    .dataframe thead th {\n",
       "        text-align: right;\n",
       "    }\n",
       "</style>\n",
       "<table border=\"1\" class=\"dataframe\">\n",
       "  <thead>\n",
       "    <tr style=\"text-align: right;\">\n",
       "      <th></th>\n",
       "      <th>0</th>\n",
       "      <th>1</th>\n",
       "      <th>2</th>\n",
       "      <th>3</th>\n",
       "      <th>4</th>\n",
       "      <th>5</th>\n",
       "      <th>6</th>\n",
       "      <th>7</th>\n",
       "      <th>version</th>\n",
       "    </tr>\n",
       "  </thead>\n",
       "  <tbody>\n",
       "    <tr>\n",
       "      <th>0</th>\n",
       "      <td>0.000009</td>\n",
       "      <td>0.000009</td>\n",
       "      <td>0.000009</td>\n",
       "      <td>0.000009</td>\n",
       "      <td>0.000009</td>\n",
       "      <td>0.000009</td>\n",
       "      <td>0.000009</td>\n",
       "      <td>0.999939</td>\n",
       "      <td>1</td>\n",
       "    </tr>\n",
       "    <tr>\n",
       "      <th>1</th>\n",
       "      <td>0.000011</td>\n",
       "      <td>0.000011</td>\n",
       "      <td>0.000011</td>\n",
       "      <td>0.000011</td>\n",
       "      <td>0.000011</td>\n",
       "      <td>0.000011</td>\n",
       "      <td>0.999926</td>\n",
       "      <td>0.000011</td>\n",
       "      <td>2</td>\n",
       "    </tr>\n",
       "    <tr>\n",
       "      <th>2</th>\n",
       "      <td>0.000009</td>\n",
       "      <td>0.000009</td>\n",
       "      <td>0.000009</td>\n",
       "      <td>0.000009</td>\n",
       "      <td>0.999935</td>\n",
       "      <td>0.000009</td>\n",
       "      <td>0.000009</td>\n",
       "      <td>0.000009</td>\n",
       "      <td>3</td>\n",
       "    </tr>\n",
       "    <tr>\n",
       "      <th>3</th>\n",
       "      <td>0.000009</td>\n",
       "      <td>0.999940</td>\n",
       "      <td>0.000009</td>\n",
       "      <td>0.000009</td>\n",
       "      <td>0.000009</td>\n",
       "      <td>0.000009</td>\n",
       "      <td>0.000009</td>\n",
       "      <td>0.000009</td>\n",
       "      <td>4</td>\n",
       "    </tr>\n",
       "    <tr>\n",
       "      <th>4</th>\n",
       "      <td>0.000009</td>\n",
       "      <td>0.000009</td>\n",
       "      <td>0.000009</td>\n",
       "      <td>0.000009</td>\n",
       "      <td>0.000009</td>\n",
       "      <td>0.999937</td>\n",
       "      <td>0.000009</td>\n",
       "      <td>0.000009</td>\n",
       "      <td>5</td>\n",
       "    </tr>\n",
       "    <tr>\n",
       "      <th>5</th>\n",
       "      <td>0.000007</td>\n",
       "      <td>0.120475</td>\n",
       "      <td>0.000007</td>\n",
       "      <td>0.735036</td>\n",
       "      <td>0.000007</td>\n",
       "      <td>0.144452</td>\n",
       "      <td>0.000007</td>\n",
       "      <td>0.000007</td>\n",
       "      <td>6</td>\n",
       "    </tr>\n",
       "    <tr>\n",
       "      <th>6</th>\n",
       "      <td>0.000012</td>\n",
       "      <td>0.212091</td>\n",
       "      <td>0.000012</td>\n",
       "      <td>0.163366</td>\n",
       "      <td>0.116566</td>\n",
       "      <td>0.153358</td>\n",
       "      <td>0.142500</td>\n",
       "      <td>0.212094</td>\n",
       "      <td>C</td>\n",
       "    </tr>\n",
       "    <tr>\n",
       "      <th>7</th>\n",
       "      <td>0.000010</td>\n",
       "      <td>0.205870</td>\n",
       "      <td>0.000010</td>\n",
       "      <td>0.149176</td>\n",
       "      <td>0.107416</td>\n",
       "      <td>0.148243</td>\n",
       "      <td>0.149866</td>\n",
       "      <td>0.239408</td>\n",
       "      <td>D</td>\n",
       "    </tr>\n",
       "  </tbody>\n",
       "</table>\n",
       "</div>"
      ],
      "text/plain": [
       "          0         1         2         3         4         5         6  \\\n",
       "0  0.000009  0.000009  0.000009  0.000009  0.000009  0.000009  0.000009   \n",
       "1  0.000011  0.000011  0.000011  0.000011  0.000011  0.000011  0.999926   \n",
       "2  0.000009  0.000009  0.000009  0.000009  0.999935  0.000009  0.000009   \n",
       "3  0.000009  0.999940  0.000009  0.000009  0.000009  0.000009  0.000009   \n",
       "4  0.000009  0.000009  0.000009  0.000009  0.000009  0.999937  0.000009   \n",
       "5  0.000007  0.120475  0.000007  0.735036  0.000007  0.144452  0.000007   \n",
       "6  0.000012  0.212091  0.000012  0.163366  0.116566  0.153358  0.142500   \n",
       "7  0.000010  0.205870  0.000010  0.149176  0.107416  0.148243  0.149866   \n",
       "\n",
       "          7 version  \n",
       "0  0.999939       1  \n",
       "1  0.000011       2  \n",
       "2  0.000009       3  \n",
       "3  0.000009       4  \n",
       "4  0.000009       5  \n",
       "5  0.000007       6  \n",
       "6  0.212094       C  \n",
       "7  0.239408       D  "
      ]
     },
     "execution_count": 407,
     "metadata": {},
     "output_type": "execute_result"
    }
   ],
   "source": [
    "topic_dist_df = pd.DataFrame(topic_dist)\n",
    "df_w_topics = topic_dist_df.join(flaubert_version).drop(columns='text')\n",
    "df_w_topics"
   ]
  },
  {
   "cell_type": "code",
   "execution_count": 408,
   "metadata": {},
   "outputs": [],
   "source": [
    "import seaborn as sns\n",
    "import matplotlib.pyplot as plt"
   ]
  },
  {
   "cell_type": "code",
   "execution_count": 409,
   "metadata": {},
   "outputs": [
    {
     "data": {
      "text/html": [
       "<div>\n",
       "<style scoped>\n",
       "    .dataframe tbody tr th:only-of-type {\n",
       "        vertical-align: middle;\n",
       "    }\n",
       "\n",
       "    .dataframe tbody tr th {\n",
       "        vertical-align: top;\n",
       "    }\n",
       "\n",
       "    .dataframe thead th {\n",
       "        text-align: right;\n",
       "    }\n",
       "</style>\n",
       "<table border=\"1\" class=\"dataframe\">\n",
       "  <thead>\n",
       "    <tr style=\"text-align: right;\">\n",
       "      <th></th>\n",
       "      <th>version</th>\n",
       "      <th>cols</th>\n",
       "      <th>vals</th>\n",
       "    </tr>\n",
       "  </thead>\n",
       "  <tbody>\n",
       "    <tr>\n",
       "      <th>0</th>\n",
       "      <td>1</td>\n",
       "      <td>0</td>\n",
       "      <td>0.000009</td>\n",
       "    </tr>\n",
       "    <tr>\n",
       "      <th>1</th>\n",
       "      <td>2</td>\n",
       "      <td>0</td>\n",
       "      <td>0.000011</td>\n",
       "    </tr>\n",
       "    <tr>\n",
       "      <th>2</th>\n",
       "      <td>3</td>\n",
       "      <td>0</td>\n",
       "      <td>0.000009</td>\n",
       "    </tr>\n",
       "    <tr>\n",
       "      <th>3</th>\n",
       "      <td>4</td>\n",
       "      <td>0</td>\n",
       "      <td>0.000009</td>\n",
       "    </tr>\n",
       "    <tr>\n",
       "      <th>4</th>\n",
       "      <td>5</td>\n",
       "      <td>0</td>\n",
       "      <td>0.000009</td>\n",
       "    </tr>\n",
       "  </tbody>\n",
       "</table>\n",
       "</div>"
      ],
      "text/plain": [
       "  version cols      vals\n",
       "0       1    0  0.000009\n",
       "1       2    0  0.000011\n",
       "2       3    0  0.000009\n",
       "3       4    0  0.000009\n",
       "4       5    0  0.000009"
      ]
     },
     "execution_count": 409,
     "metadata": {},
     "output_type": "execute_result"
    }
   ],
   "source": [
    "melt = df_w_topics.melt('version', var_name='cols', value_name='vals')\n",
    "melt.head()"
   ]
  },
  {
   "cell_type": "code",
   "execution_count": 410,
   "metadata": {},
   "outputs": [
    {
     "data": {
      "image/png": "[encoded data removed]",
      "text/plain": [
       "<Figure size 798.375x504 with 1 Axes>"
      ]
     },
     "metadata": {
      "needs_background": "light"
     },
     "output_type": "display_data"
    }
   ],
   "source": [
    "sns.catplot(x='version', y='vals', hue='cols', data=melt, kind='swarm', height=7, aspect=1.5, s=10);"
   ]
  },
  {
   "cell_type": "code",
   "execution_count": null,
   "metadata": {},
   "outputs": [],
   "source": []
  },
  {
   "cell_type": "code",
   "execution_count": null,
   "metadata": {},
   "outputs": [],
   "source": []
  },
  {
   "cell_type": "code",
   "execution_count": null,
   "metadata": {},
   "outputs": [],
   "source": []
  },
  {
   "cell_type": "code",
   "execution_count": null,
   "metadata": {},
   "outputs": [],
   "source": []
  },
  {
   "cell_type": "code",
   "execution_count": null,
   "metadata": {},
   "outputs": [],
   "source": []
  }
 ],
 "metadata": {
  "kernelspec": {
   "display_name": "Python 3",
   "language": "python",
   "name": "python3"
  },
  "language_info": {
   "codemirror_mode": {
    "name": "ipython",
    "version": 3
   },
   "file_extension": ".py",
   "mimetype": "text/x-python",
   "name": "python",
   "nbconvert_exporter": "python",
   "pygments_lexer": "ipython3",
   "version": "3.6.7"
  }
 },
 "nbformat": 4,
 "nbformat_minor": 2
}
