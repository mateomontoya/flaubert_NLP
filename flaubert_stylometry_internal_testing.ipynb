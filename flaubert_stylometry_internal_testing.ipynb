{
 "cells": [
  {
   "cell_type": "code",
   "execution_count": 99,
   "metadata": {},
   "outputs": [],
   "source": [
    "import pandas as pd\n",
    "import os\n",
    "import matplotlib.pyplot as plt"
   ]
  },
  {
   "cell_type": "code",
   "execution_count": 66,
   "metadata": {},
   "outputs": [],
   "source": [
    "flaubert_data = pd.read_csv('data/parsed.csv')"
   ]
  },
  {
   "cell_type": "code",
   "execution_count": 67,
   "metadata": {},
   "outputs": [
    {
     "data": {
      "text/html": [
       "<div>\n",
       "<style scoped>\n",
       "    .dataframe tbody tr th:only-of-type {\n",
       "        vertical-align: middle;\n",
       "    }\n",
       "\n",
       "    .dataframe tbody tr th {\n",
       "        vertical-align: top;\n",
       "    }\n",
       "\n",
       "    .dataframe thead th {\n",
       "        text-align: right;\n",
       "    }\n",
       "</style>\n",
       "<table border=\"1\" class=\"dataframe\">\n",
       "  <thead>\n",
       "    <tr style=\"text-align: right;\">\n",
       "      <th></th>\n",
       "      <th>chapter</th>\n",
       "      <th>folio</th>\n",
       "      <th>margins</th>\n",
       "      <th>margins_no_struck</th>\n",
       "      <th>margins_struck</th>\n",
       "      <th>metadata</th>\n",
       "      <th>previous</th>\n",
       "      <th>previous_no_struck</th>\n",
       "      <th>previous_struck</th>\n",
       "      <th>struck</th>\n",
       "      <th>text</th>\n",
       "      <th>underlined</th>\n",
       "      <th>version</th>\n",
       "    </tr>\n",
       "  </thead>\n",
       "  <tbody>\n",
       "    <tr>\n",
       "      <th>0</th>\n",
       "      <td>NaN</td>\n",
       "      <td>NaN</td>\n",
       "      <td>NaN</td>\n",
       "      <td>NaN</td>\n",
       "      <td>NaN</td>\n",
       "      <td>NaN</td>\n",
       "      <td>Madame Bovary ____________ 19 7bre 1851.</td>\n",
       "      <td>Madame Bovary ____________ 19 7bre 1851.</td>\n",
       "      <td>NaN</td>\n",
       "      <td>NaN</td>\n",
       "      <td>Madame Bovary ____________ 19 7bre 1851.</td>\n",
       "      <td>NaN</td>\n",
       "      <td>1</td>\n",
       "    </tr>\n",
       "    <tr>\n",
       "      <th>1</th>\n",
       "      <td>NaN</td>\n",
       "      <td>2v</td>\n",
       "      <td>NaN</td>\n",
       "      <td>NaN</td>\n",
       "      <td>NaN</td>\n",
       "      <td>I, chap 7 : La levrette Djali - brouillons, vo...</td>\n",
       "      <td>à Dieppe entendre des chanteurs Montagnards</td>\n",
       "      <td>à Dieppe entendre des chanteurs Montagnards</td>\n",
       "      <td>NaN</td>\n",
       "      <td>NaN</td>\n",
       "      <td>à Dieppe entendre des chanteurs Montagnards</td>\n",
       "      <td>NaN</td>\n",
       "      <td>1</td>\n",
       "    </tr>\n",
       "    <tr>\n",
       "      <th>2</th>\n",
       "      <td>1.0</td>\n",
       "      <td>3</td>\n",
       "      <td>allait puis cela en dôme tendu à 2 1 c'était d...</td>\n",
       "      <td>allait puis cela en dôme tendu à 2 1 c'était d...</td>\n",
       "      <td>ement lâche qu'il présenta au maître d'études ...</td>\n",
       "      <td>I, chap. 1 : L'entrée de Charles au collège : ...</td>\n",
       "      <td>Madame Bovary. I. Une heure trois et demie ven...</td>\n",
       "      <td>Madame Bovary. I. Une heure et demie venaient ...</td>\n",
       "      <td>trois et le maître d'études attendait le petit...</td>\n",
       "      <td>ement lâche trois et le maître d'études attend...</td>\n",
       "      <td>allait puis cela en dôme tendu à 2 1 c'était d...</td>\n",
       "      <td>des moyens nouveau nouveau</td>\n",
       "      <td>1</td>\n",
       "    </tr>\n",
       "    <tr>\n",
       "      <th>3</th>\n",
       "      <td>1.0</td>\n",
       "      <td>3v</td>\n",
       "      <td>ce fut un vacarme suprême. on comme un flot dé...</td>\n",
       "      <td>ce fut un vacarme suprême. comme un flot débor...</td>\n",
       "      <td>on puis com par peut à m alors, comme une band...</td>\n",
       "      <td>I, 1 : L'entrée de Charles au collège - Brouil...</td>\n",
       "      <td>- ce fut un vacarme suprême - les rires ... et...</td>\n",
       "      <td>- ce fut un vacarme suprême - les rires ... et...</td>\n",
       "      <td>comme veut prendre laissé un on allait ce s*/r...</td>\n",
       "      <td>on puis com par par peut à m alors, comme une ...</td>\n",
       "      <td>ce fut un vacarme suprême. on comme un flot dé...</td>\n",
       "      <td>NaN</td>\n",
       "      <td>1</td>\n",
       "    </tr>\n",
       "    <tr>\n",
       "      <th>4</th>\n",
       "      <td>1.0</td>\n",
       "      <td>4</td>\n",
       "      <td>de Rouen des moyens comme toujours ainsi que d...</td>\n",
       "      <td>de Rouen ainsi que d'usage chacun Mr Roger der...</td>\n",
       "      <td>des moyens comme toujours \"Mr Roger fort envir...</td>\n",
       "      <td>I, 1 : L'entrée de Charles au collège - Brouil...</td>\n",
       "      <td>Madame Bovary I. de Rouen Une heure et demie v...</td>\n",
       "      <td>Madame Bovary I. Une heure et demie venaient d...</td>\n",
       "      <td>de Rouen comme toujours Mr Roger l'étude des j...</td>\n",
       "      <td>de Rouen de des moyens comme toujours comme to...</td>\n",
       "      <td>Madame Bovary I. de Rouen Une heure et demie v...</td>\n",
       "      <td>des moyens nouveau et et le nouveau</td>\n",
       "      <td>1</td>\n",
       "    </tr>\n",
       "  </tbody>\n",
       "</table>\n",
       "</div>"
      ],
      "text/plain": [
       "   chapter folio                                            margins  \\\n",
       "0      NaN   NaN                                                NaN   \n",
       "1      NaN    2v                                                NaN   \n",
       "2      1.0     3  allait puis cela en dôme tendu à 2 1 c'était d...   \n",
       "3      1.0    3v  ce fut un vacarme suprême. on comme un flot dé...   \n",
       "4      1.0     4  de Rouen des moyens comme toujours ainsi que d...   \n",
       "\n",
       "                                   margins_no_struck  \\\n",
       "0                                                NaN   \n",
       "1                                                NaN   \n",
       "2  allait puis cela en dôme tendu à 2 1 c'était d...   \n",
       "3  ce fut un vacarme suprême. comme un flot débor...   \n",
       "4  de Rouen ainsi que d'usage chacun Mr Roger der...   \n",
       "\n",
       "                                      margins_struck  \\\n",
       "0                                                NaN   \n",
       "1                                                NaN   \n",
       "2  ement lâche qu'il présenta au maître d'études ...   \n",
       "3  on puis com par peut à m alors, comme une band...   \n",
       "4  des moyens comme toujours \"Mr Roger fort envir...   \n",
       "\n",
       "                                            metadata  \\\n",
       "0                                                NaN   \n",
       "1  I, chap 7 : La levrette Djali - brouillons, vo...   \n",
       "2  I, chap. 1 : L'entrée de Charles au collège : ...   \n",
       "3  I, 1 : L'entrée de Charles au collège - Brouil...   \n",
       "4  I, 1 : L'entrée de Charles au collège - Brouil...   \n",
       "\n",
       "                                            previous  \\\n",
       "0           Madame Bovary ____________ 19 7bre 1851.   \n",
       "1        à Dieppe entendre des chanteurs Montagnards   \n",
       "2  Madame Bovary. I. Une heure trois et demie ven...   \n",
       "3  - ce fut un vacarme suprême - les rires ... et...   \n",
       "4  Madame Bovary I. de Rouen Une heure et demie v...   \n",
       "\n",
       "                                  previous_no_struck  \\\n",
       "0           Madame Bovary ____________ 19 7bre 1851.   \n",
       "1        à Dieppe entendre des chanteurs Montagnards   \n",
       "2  Madame Bovary. I. Une heure et demie venaient ...   \n",
       "3  - ce fut un vacarme suprême - les rires ... et...   \n",
       "4  Madame Bovary I. Une heure et demie venaient d...   \n",
       "\n",
       "                                     previous_struck  \\\n",
       "0                                                NaN   \n",
       "1                                                NaN   \n",
       "2  trois et le maître d'études attendait le petit...   \n",
       "3  comme veut prendre laissé un on allait ce s*/r...   \n",
       "4  de Rouen comme toujours Mr Roger l'étude des j...   \n",
       "\n",
       "                                              struck  \\\n",
       "0                                                NaN   \n",
       "1                                                NaN   \n",
       "2  ement lâche trois et le maître d'études attend...   \n",
       "3  on puis com par par peut à m alors, comme une ...   \n",
       "4  de Rouen de des moyens comme toujours comme to...   \n",
       "\n",
       "                                                text  \\\n",
       "0           Madame Bovary ____________ 19 7bre 1851.   \n",
       "1        à Dieppe entendre des chanteurs Montagnards   \n",
       "2  allait puis cela en dôme tendu à 2 1 c'était d...   \n",
       "3  ce fut un vacarme suprême. on comme un flot dé...   \n",
       "4  Madame Bovary I. de Rouen Une heure et demie v...   \n",
       "\n",
       "                            underlined version  \n",
       "0                                  NaN       1  \n",
       "1                                  NaN       1  \n",
       "2           des moyens nouveau nouveau       1  \n",
       "3                                  NaN       1  \n",
       "4  des moyens nouveau et et le nouveau       1  "
      ]
     },
     "execution_count": 67,
     "metadata": {},
     "output_type": "execute_result"
    }
   ],
   "source": [
    "flaubert_data.head()"
   ]
  },
  {
   "cell_type": "code",
   "execution_count": 68,
   "metadata": {},
   "outputs": [],
   "source": [
    "flaubert_text = flaubert_data[['text', 'version']]"
   ]
  },
  {
   "cell_type": "code",
   "execution_count": 69,
   "metadata": {},
   "outputs": [
    {
     "data": {
      "text/html": [
       "<div>\n",
       "<style scoped>\n",
       "    .dataframe tbody tr th:only-of-type {\n",
       "        vertical-align: middle;\n",
       "    }\n",
       "\n",
       "    .dataframe tbody tr th {\n",
       "        vertical-align: top;\n",
       "    }\n",
       "\n",
       "    .dataframe thead th {\n",
       "        text-align: right;\n",
       "    }\n",
       "</style>\n",
       "<table border=\"1\" class=\"dataframe\">\n",
       "  <thead>\n",
       "    <tr style=\"text-align: right;\">\n",
       "      <th></th>\n",
       "      <th>text</th>\n",
       "      <th>version</th>\n",
       "    </tr>\n",
       "  </thead>\n",
       "  <tbody>\n",
       "    <tr>\n",
       "      <th>0</th>\n",
       "      <td>Madame Bovary ____________ 19 7bre 1851.</td>\n",
       "      <td>1</td>\n",
       "    </tr>\n",
       "    <tr>\n",
       "      <th>1</th>\n",
       "      <td>à Dieppe entendre des chanteurs Montagnards</td>\n",
       "      <td>1</td>\n",
       "    </tr>\n",
       "    <tr>\n",
       "      <th>2</th>\n",
       "      <td>allait puis cela en dôme tendu à 2 1 c'était d...</td>\n",
       "      <td>1</td>\n",
       "    </tr>\n",
       "    <tr>\n",
       "      <th>3</th>\n",
       "      <td>ce fut un vacarme suprême. on comme un flot dé...</td>\n",
       "      <td>1</td>\n",
       "    </tr>\n",
       "    <tr>\n",
       "      <th>4</th>\n",
       "      <td>Madame Bovary I. de Rouen Une heure et demie v...</td>\n",
       "      <td>1</td>\n",
       "    </tr>\n",
       "  </tbody>\n",
       "</table>\n",
       "</div>"
      ],
      "text/plain": [
       "                                                text version\n",
       "0           Madame Bovary ____________ 19 7bre 1851.       1\n",
       "1        à Dieppe entendre des chanteurs Montagnards       1\n",
       "2  allait puis cela en dôme tendu à 2 1 c'était d...       1\n",
       "3  ce fut un vacarme suprême. on comme un flot dé...       1\n",
       "4  Madame Bovary I. de Rouen Une heure et demie v...       1"
      ]
     },
     "execution_count": 69,
     "metadata": {},
     "output_type": "execute_result"
    }
   ],
   "source": [
    "flaubert_text.head()"
   ]
  },
  {
   "cell_type": "code",
   "execution_count": 80,
   "metadata": {},
   "outputs": [],
   "source": [
    "import string\n",
    "\n",
    "def flaubert_combine_versions_on_text(data):\n",
    "    \n",
    "    ## A list of the versions that we are working with\n",
    "    versions = ['1', '2', '3', '4', '5', '6', 'C', 'D']\n",
    "    \n",
    "    ## Removing all the numbers in the text column -- there are a few instances of numbers that occur from the metadata\n",
    "    \n",
    "    data['text'] = data['text'].str.replace('\\d+', '')\n",
    "    \n",
    "    \n",
    "    \n",
    "    ##Removing all null values in the text column (generally blank pages)\n",
    "    \n",
    "    data['text'] = data['text'].dropna()\n",
    "    \n",
    "    def remove_punctuations(text):\n",
    "          return str(text).translate(str.maketrans('', '', string.punctuation))\n",
    "\n",
    "    data[\"text\"] = data['text'].apply(remove_punctuations)\n",
    "    \n",
    "    def lower_case(text):\n",
    "        return text.lower()\n",
    "    \n",
    "    data['text'] = data['text'].apply(lower_case)\n",
    "    \n",
    "    ## Generating a dataframe with the respective text data of each version\n",
    "\n",
    "    version_1 = data[data['version'] == '1']\n",
    "    version_2 = data[data['version'] == '2']\n",
    "    version_3 = data[data['version'] == '3']\n",
    "    version_4 = data[data['version'] == '4']\n",
    "    version_5 = data[data['version'] == '5']\n",
    "    version_6 = data[data['version'] == '6']\n",
    "    version_C = data[data['version'] == 'C']\n",
    "    version_D = data[data['version'] == 'D']\n",
    "    \n",
    "    ## Joining the text of the different versions together, turning all data into string form,\n",
    "    ## and removing all punctuation\n",
    "    version_1 = ' '.join([x for x in version_1.text])\n",
    "    version_2 = ' '.join([x for x in version_2.text])\n",
    "    version_3 = ' '.join([x for x in version_3.text])\n",
    "    version_4 = ' '.join([x for x in version_4.text])\n",
    "    version_5 = ' '.join([x for x in version_5.text])\n",
    "    version_6 = ' '.join([x for x in version_6.text])\n",
    "    version_C = ' '.join([x for x in version_C.text])\n",
    "    version_D = ' '.join([x for x in version_D.text])\n",
    "    \n",
    "    ## Generating the new dataframe from this group of disjointed text\n",
    "    \n",
    "    data = {'version': versions,\n",
    "        'text': [version_1, version_2, version_3, version_4, version_5, version_6, version_C, version_D]}\n",
    "    \n",
    "    print(\"There are\", len(data['text']),\n",
    "          \"versions in your new dataframe with book lengths between\",\n",
    "          max(len(t) for t in data['text']), \"and\", \n",
    "          min(len(t) for t in data['text']), \"words.\")\n",
    "    \n",
    "    return pd.DataFrame(data=data)"
   ]
  },
  {
   "cell_type": "code",
   "execution_count": 83,
   "metadata": {},
   "outputs": [
    {
     "name": "stdout",
     "output_type": "stream",
     "text": [
      "There are 8 versions in your new dataframe with book lengths between 1411998 and 718807 words.\n"
     ]
    },
    {
     "data": {
      "text/html": [
       "<div>\n",
       "<style scoped>\n",
       "    .dataframe tbody tr th:only-of-type {\n",
       "        vertical-align: middle;\n",
       "    }\n",
       "\n",
       "    .dataframe tbody tr th {\n",
       "        vertical-align: top;\n",
       "    }\n",
       "\n",
       "    .dataframe thead th {\n",
       "        text-align: right;\n",
       "    }\n",
       "</style>\n",
       "<table border=\"1\" class=\"dataframe\">\n",
       "  <thead>\n",
       "    <tr style=\"text-align: right;\">\n",
       "      <th></th>\n",
       "      <th>version</th>\n",
       "      <th>text</th>\n",
       "    </tr>\n",
       "  </thead>\n",
       "  <tbody>\n",
       "    <tr>\n",
       "      <th>0</th>\n",
       "      <td>1</td>\n",
       "      <td>madame bovary   bre  à dieppe entendre des cha...</td>\n",
       "    </tr>\n",
       "    <tr>\n",
       "      <th>1</th>\n",
       "      <td>2</td>\n",
       "      <td>blainville crevon buchy quincampoix la boissiè...</td>\n",
       "    </tr>\n",
       "    <tr>\n",
       "      <th>2</th>\n",
       "      <td>3</td>\n",
       "      <td>tout lui parut être autour delle enveloppé pa...</td>\n",
       "    </tr>\n",
       "    <tr>\n",
       "      <th>3</th>\n",
       "      <td>4</td>\n",
       "      <td>elle avait peur den perdre qque chose où mêm...</td>\n",
       "    </tr>\n",
       "    <tr>\n",
       "      <th>4</th>\n",
       "      <td>5</td>\n",
       "      <td>iii  ii  lestiboudois hippolyte doit paraître ...</td>\n",
       "    </tr>\n",
       "    <tr>\n",
       "      <th>5</th>\n",
       "      <td>6</td>\n",
       "      <td>avis c sorte quemma cet avertissement était u...</td>\n",
       "    </tr>\n",
       "    <tr>\n",
       "      <th>6</th>\n",
       "      <td>C</td>\n",
       "      <td>bon à composer en  envoyer les épreuves à mr d...</td>\n",
       "    </tr>\n",
       "    <tr>\n",
       "      <th>7</th>\n",
       "      <td>D</td>\n",
       "      <td>– madame bovary – –– à  louis bouilhet i prem...</td>\n",
       "    </tr>\n",
       "  </tbody>\n",
       "</table>\n",
       "</div>"
      ],
      "text/plain": [
       "  version                                               text\n",
       "0       1  madame bovary   bre  à dieppe entendre des cha...\n",
       "1       2  blainville crevon buchy quincampoix la boissiè...\n",
       "2       3   tout lui parut être autour delle enveloppé pa...\n",
       "3       4    elle avait peur den perdre qque chose où mêm...\n",
       "4       5  iii  ii  lestiboudois hippolyte doit paraître ...\n",
       "5       6   avis c sorte quemma cet avertissement était u...\n",
       "6       C  bon à composer en  envoyer les épreuves à mr d...\n",
       "7       D   – madame bovary – –– à  louis bouilhet i prem..."
      ]
     },
     "execution_count": 83,
     "metadata": {},
     "output_type": "execute_result"
    }
   ],
   "source": [
    "flaubert_version = flaubert_combine_versions_on_text(flaubert_data)\n",
    "flaubert_version"
   ]
  },
  {
   "cell_type": "code",
   "execution_count": 88,
   "metadata": {},
   "outputs": [
    {
     "data": {
      "text/plain": [
       "1176579"
      ]
     },
     "execution_count": 88,
     "metadata": {},
     "output_type": "execute_result"
    }
   ],
   "source": [
    "len(flaubert_version['text'][0])"
   ]
  },
  {
   "cell_type": "code",
   "execution_count": 119,
   "metadata": {},
   "outputs": [
    {
     "data": {
      "image/png": "[encoded data removed]",
      "text/plain": [
       "<Figure size 432x288 with 1 Axes>"
      ]
     },
     "metadata": {
      "needs_background": "light"
     },
     "output_type": "display_data"
    },
    {
     "data": {
      "image/png": "[encoded data removed]",
      "text/plain": [
       "<Figure size 432x288 with 1 Axes>"
      ]
     },
     "metadata": {
      "needs_background": "light"
     },
     "output_type": "display_data"
    },
    {
     "data": {
      "image/png": "[encoded data removed]",
      "text/plain": [
       "<Figure size 432x288 with 1 Axes>"
      ]
     },
     "metadata": {
      "needs_background": "light"
     },
     "output_type": "display_data"
    },
    {
     "data": {
      "image/png": "[encoded data removed]",
      "text/plain": [
       "<Figure size 432x288 with 1 Axes>"
      ]
     },
     "metadata": {
      "needs_background": "light"
     },
     "output_type": "display_data"
    },
    {
     "data": {
      "image/png": "[encoded data removed]",
      "text/plain": [
       "<Figure size 432x288 with 1 Axes>"
      ]
     },
     "metadata": {
      "needs_background": "light"
     },
     "output_type": "display_data"
    },
    {
     "data": {
      "image/png": "[encoded data removed]",
      "text/plain": [
       "<Figure size 432x288 with 1 Axes>"
      ]
     },
     "metadata": {
      "needs_background": "light"
     },
     "output_type": "display_data"
    },
    {
     "data": {
      "image/png": "[encoded data removed]",
      "text/plain": [
       "<Figure size 432x288 with 1 Axes>"
      ]
     },
     "metadata": {
      "needs_background": "light"
     },
     "output_type": "display_data"
    },
    {
     "data": {
      "image/png": "[encoded data removed]",
      "text/plain": [
       "<Figure size 432x288 with 1 Axes>"
      ]
     },
     "metadata": {
      "needs_background": "light"
     },
     "output_type": "display_data"
    }
   ],
   "source": [
    "import nltk\n",
    "\n",
    "#Create a dictionary of the different versions.\n",
    "versions = {0, 1, 2, 3, 4, 5, 6, 7}\n",
    "\n",
    "# Transform the different versions into tokens\n",
    "version_tokens = {}\n",
    "version_length_distributions = {}\n",
    "for version in versions:\n",
    "    tokens = nltk.word_tokenize(flaubert_version['text'][version], language='french')\n",
    "\n",
    "   \n",
    "    # Get a distribution of token lengths\n",
    "    token_lengths = [len(token) for token in tokens]\n",
    "    version_length_distributions[version] = nltk.FreqDist(token_lengths)\n",
    "    version_length_distributions[version].plot(15, title=version)\n"
   ]
  },
  {
   "cell_type": "code",
   "execution_count": null,
   "metadata": {},
   "outputs": [],
   "source": []
  },
  {
   "cell_type": "code",
   "execution_count": null,
   "metadata": {},
   "outputs": [],
   "source": []
  },
  {
   "cell_type": "code",
   "execution_count": null,
   "metadata": {},
   "outputs": [],
   "source": []
  },
  {
   "cell_type": "code",
   "execution_count": null,
   "metadata": {},
   "outputs": [],
   "source": []
  },
  {
   "cell_type": "code",
   "execution_count": null,
   "metadata": {},
   "outputs": [],
   "source": []
  },
  {
   "cell_type": "code",
   "execution_count": null,
   "metadata": {},
   "outputs": [],
   "source": []
  },
  {
   "cell_type": "code",
   "execution_count": null,
   "metadata": {},
   "outputs": [],
   "source": []
  },
  {
   "cell_type": "code",
   "execution_count": null,
   "metadata": {},
   "outputs": [],
   "source": []
  },
  {
   "cell_type": "code",
   "execution_count": null,
   "metadata": {},
   "outputs": [],
   "source": []
  },
  {
   "cell_type": "code",
   "execution_count": null,
   "metadata": {},
   "outputs": [],
   "source": []
  },
  {
   "cell_type": "code",
   "execution_count": null,
   "metadata": {},
   "outputs": [],
   "source": []
  },
  {
   "cell_type": "code",
   "execution_count": null,
   "metadata": {},
   "outputs": [],
   "source": []
  },
  {
   "cell_type": "code",
   "execution_count": null,
   "metadata": {},
   "outputs": [],
   "source": []
  },
  {
   "cell_type": "code",
   "execution_count": null,
   "metadata": {},
   "outputs": [],
   "source": []
  },
  {
   "cell_type": "code",
   "execution_count": null,
   "metadata": {},
   "outputs": [],
   "source": []
  },
  {
   "cell_type": "code",
   "execution_count": null,
   "metadata": {},
   "outputs": [],
   "source": []
  },
  {
   "cell_type": "code",
   "execution_count": null,
   "metadata": {},
   "outputs": [],
   "source": []
  },
  {
   "cell_type": "code",
   "execution_count": null,
   "metadata": {},
   "outputs": [],
   "source": []
  },
  {
   "cell_type": "code",
   "execution_count": null,
   "metadata": {},
   "outputs": [],
   "source": []
  },
  {
   "cell_type": "code",
   "execution_count": null,
   "metadata": {},
   "outputs": [],
   "source": []
  },
  {
   "cell_type": "code",
   "execution_count": null,
   "metadata": {},
   "outputs": [],
   "source": []
  },
  {
   "cell_type": "code",
   "execution_count": null,
   "metadata": {},
   "outputs": [],
   "source": []
  },
  {
   "cell_type": "code",
   "execution_count": null,
   "metadata": {},
   "outputs": [],
   "source": []
  },
  {
   "cell_type": "code",
   "execution_count": null,
   "metadata": {},
   "outputs": [],
   "source": []
  },
  {
   "cell_type": "code",
   "execution_count": null,
   "metadata": {},
   "outputs": [],
   "source": []
  }
 ],
 "metadata": {
  "kernelspec": {
   "display_name": "Python 3",
   "language": "python",
   "name": "python3"
  },
  "language_info": {
   "codemirror_mode": {
    "name": "ipython",
    "version": 3
   },
   "file_extension": ".py",
   "mimetype": "text/x-python",
   "name": "python",
   "nbconvert_exporter": "python",
   "pygments_lexer": "ipython3",
   "version": "3.6.7"
  }
 },
 "nbformat": 4,
 "nbformat_minor": 2
}
